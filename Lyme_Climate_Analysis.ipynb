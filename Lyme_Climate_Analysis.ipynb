{
  "nbformat": 4,
  "nbformat_minor": 0,
  "metadata": {
    "colab": {
      "provenance": [],
      "collapsed_sections": [
        "fHW41Ho8VW_g",
        "k5YwBIQmVgqq",
        "Owjh-WgyGs1I",
        "CETW_dLLG70p",
        "D3a28s41rv2p",
        "GdmXmeNGuY5d"
      ]
    },
    "kernelspec": {
      "name": "python3",
      "display_name": "Python 3"
    },
    "language_info": {
      "name": "python"
    }
  },
  "cells": [
    {
      "cell_type": "markdown",
      "source": [
        "# Lyme Disease Case Data"
      ],
      "metadata": {
        "id": "fHW41Ho8VW_g"
      }
    },
    {
      "cell_type": "code",
      "execution_count": null,
      "metadata": {
        "colab": {
          "base_uri": "https://localhost:8080/",
          "height": 73
        },
        "id": "mqmYo9PBKczx",
        "outputId": "106790c9-c954-4b69-912e-62294c6d8387"
      },
      "outputs": [
        {
          "output_type": "display_data",
          "data": {
            "text/plain": [
              "<IPython.core.display.HTML object>"
            ],
            "text/html": [
              "\n",
              "     <input type=\"file\" id=\"files-754085d4-175d-410b-95c6-0bdc2b4abb45\" name=\"files[]\" multiple disabled\n",
              "        style=\"border:none\" />\n",
              "     <output id=\"result-754085d4-175d-410b-95c6-0bdc2b4abb45\">\n",
              "      Upload widget is only available when the cell has been executed in the\n",
              "      current browser session. Please rerun this cell to enable.\n",
              "      </output>\n",
              "      <script>// Copyright 2017 Google LLC\n",
              "//\n",
              "// Licensed under the Apache License, Version 2.0 (the \"License\");\n",
              "// you may not use this file except in compliance with the License.\n",
              "// You may obtain a copy of the License at\n",
              "//\n",
              "//      http://www.apache.org/licenses/LICENSE-2.0\n",
              "//\n",
              "// Unless required by applicable law or agreed to in writing, software\n",
              "// distributed under the License is distributed on an \"AS IS\" BASIS,\n",
              "// WITHOUT WARRANTIES OR CONDITIONS OF ANY KIND, either express or implied.\n",
              "// See the License for the specific language governing permissions and\n",
              "// limitations under the License.\n",
              "\n",
              "/**\n",
              " * @fileoverview Helpers for google.colab Python module.\n",
              " */\n",
              "(function(scope) {\n",
              "function span(text, styleAttributes = {}) {\n",
              "  const element = document.createElement('span');\n",
              "  element.textContent = text;\n",
              "  for (const key of Object.keys(styleAttributes)) {\n",
              "    element.style[key] = styleAttributes[key];\n",
              "  }\n",
              "  return element;\n",
              "}\n",
              "\n",
              "// Max number of bytes which will be uploaded at a time.\n",
              "const MAX_PAYLOAD_SIZE = 100 * 1024;\n",
              "\n",
              "function _uploadFiles(inputId, outputId) {\n",
              "  const steps = uploadFilesStep(inputId, outputId);\n",
              "  const outputElement = document.getElementById(outputId);\n",
              "  // Cache steps on the outputElement to make it available for the next call\n",
              "  // to uploadFilesContinue from Python.\n",
              "  outputElement.steps = steps;\n",
              "\n",
              "  return _uploadFilesContinue(outputId);\n",
              "}\n",
              "\n",
              "// This is roughly an async generator (not supported in the browser yet),\n",
              "// where there are multiple asynchronous steps and the Python side is going\n",
              "// to poll for completion of each step.\n",
              "// This uses a Promise to block the python side on completion of each step,\n",
              "// then passes the result of the previous step as the input to the next step.\n",
              "function _uploadFilesContinue(outputId) {\n",
              "  const outputElement = document.getElementById(outputId);\n",
              "  const steps = outputElement.steps;\n",
              "\n",
              "  const next = steps.next(outputElement.lastPromiseValue);\n",
              "  return Promise.resolve(next.value.promise).then((value) => {\n",
              "    // Cache the last promise value to make it available to the next\n",
              "    // step of the generator.\n",
              "    outputElement.lastPromiseValue = value;\n",
              "    return next.value.response;\n",
              "  });\n",
              "}\n",
              "\n",
              "/**\n",
              " * Generator function which is called between each async step of the upload\n",
              " * process.\n",
              " * @param {string} inputId Element ID of the input file picker element.\n",
              " * @param {string} outputId Element ID of the output display.\n",
              " * @return {!Iterable<!Object>} Iterable of next steps.\n",
              " */\n",
              "function* uploadFilesStep(inputId, outputId) {\n",
              "  const inputElement = document.getElementById(inputId);\n",
              "  inputElement.disabled = false;\n",
              "\n",
              "  const outputElement = document.getElementById(outputId);\n",
              "  outputElement.innerHTML = '';\n",
              "\n",
              "  const pickedPromise = new Promise((resolve) => {\n",
              "    inputElement.addEventListener('change', (e) => {\n",
              "      resolve(e.target.files);\n",
              "    });\n",
              "  });\n",
              "\n",
              "  const cancel = document.createElement('button');\n",
              "  inputElement.parentElement.appendChild(cancel);\n",
              "  cancel.textContent = 'Cancel upload';\n",
              "  const cancelPromise = new Promise((resolve) => {\n",
              "    cancel.onclick = () => {\n",
              "      resolve(null);\n",
              "    };\n",
              "  });\n",
              "\n",
              "  // Wait for the user to pick the files.\n",
              "  const files = yield {\n",
              "    promise: Promise.race([pickedPromise, cancelPromise]),\n",
              "    response: {\n",
              "      action: 'starting',\n",
              "    }\n",
              "  };\n",
              "\n",
              "  cancel.remove();\n",
              "\n",
              "  // Disable the input element since further picks are not allowed.\n",
              "  inputElement.disabled = true;\n",
              "\n",
              "  if (!files) {\n",
              "    return {\n",
              "      response: {\n",
              "        action: 'complete',\n",
              "      }\n",
              "    };\n",
              "  }\n",
              "\n",
              "  for (const file of files) {\n",
              "    const li = document.createElement('li');\n",
              "    li.append(span(file.name, {fontWeight: 'bold'}));\n",
              "    li.append(span(\n",
              "        `(${file.type || 'n/a'}) - ${file.size} bytes, ` +\n",
              "        `last modified: ${\n",
              "            file.lastModifiedDate ? file.lastModifiedDate.toLocaleDateString() :\n",
              "                                    'n/a'} - `));\n",
              "    const percent = span('0% done');\n",
              "    li.appendChild(percent);\n",
              "\n",
              "    outputElement.appendChild(li);\n",
              "\n",
              "    const fileDataPromise = new Promise((resolve) => {\n",
              "      const reader = new FileReader();\n",
              "      reader.onload = (e) => {\n",
              "        resolve(e.target.result);\n",
              "      };\n",
              "      reader.readAsArrayBuffer(file);\n",
              "    });\n",
              "    // Wait for the data to be ready.\n",
              "    let fileData = yield {\n",
              "      promise: fileDataPromise,\n",
              "      response: {\n",
              "        action: 'continue',\n",
              "      }\n",
              "    };\n",
              "\n",
              "    // Use a chunked sending to avoid message size limits. See b/62115660.\n",
              "    let position = 0;\n",
              "    do {\n",
              "      const length = Math.min(fileData.byteLength - position, MAX_PAYLOAD_SIZE);\n",
              "      const chunk = new Uint8Array(fileData, position, length);\n",
              "      position += length;\n",
              "\n",
              "      const base64 = btoa(String.fromCharCode.apply(null, chunk));\n",
              "      yield {\n",
              "        response: {\n",
              "          action: 'append',\n",
              "          file: file.name,\n",
              "          data: base64,\n",
              "        },\n",
              "      };\n",
              "\n",
              "      let percentDone = fileData.byteLength === 0 ?\n",
              "          100 :\n",
              "          Math.round((position / fileData.byteLength) * 100);\n",
              "      percent.textContent = `${percentDone}% done`;\n",
              "\n",
              "    } while (position < fileData.byteLength);\n",
              "  }\n",
              "\n",
              "  // All done.\n",
              "  yield {\n",
              "    response: {\n",
              "      action: 'complete',\n",
              "    }\n",
              "  };\n",
              "}\n",
              "\n",
              "scope.google = scope.google || {};\n",
              "scope.google.colab = scope.google.colab || {};\n",
              "scope.google.colab._files = {\n",
              "  _uploadFiles,\n",
              "  _uploadFilesContinue,\n",
              "};\n",
              "})(self);\n",
              "</script> "
            ]
          },
          "metadata": {}
        },
        {
          "output_type": "stream",
          "name": "stdout",
          "text": [
            "Saving Lyme_Disease_PHO.csv to Lyme_Disease_PHO.csv\n"
          ]
        }
      ],
      "source": [
        "#Importing libraries\n",
        "import numpy as np\n",
        "import pandas as pd\n",
        "\n",
        "#Upload the CSV file for Lyme Disease Data and read it into a DataFrame\n",
        "from google.colab import files\n",
        "uploaded = files.upload()\n",
        "lyme_df = pd.read_csv('Lyme_Disease_PHO.csv')"
      ]
    },
    {
      "cell_type": "code",
      "source": [
        "#Inspect the first few rows of the DataFrame\n",
        "print(\"First five rows of the dataset:\")\n",
        "print(lyme_df.head())\n",
        "\n",
        "#Get a summary of the DataFrame\n",
        "print(\"\\nDataFrame summary:\")\n",
        "print(lyme_df.info())"
      ],
      "metadata": {
        "colab": {
          "base_uri": "https://localhost:8080/"
        },
        "id": "EfZQqkBKKltc",
        "outputId": "bd7f2eee-344c-4d91-ea98-7a2fde7ba10f"
      },
      "execution_count": null,
      "outputs": [
        {
          "output_type": "stream",
          "name": "stdout",
          "text": [
            "First five rows of the dataset:\n",
            "   Year  Month  Total Cases\n",
            "0  2019      1            1\n",
            "1  2019      2            0\n",
            "2  2019      3            0\n",
            "3  2019      4            1\n",
            "4  2019      5            6\n",
            "\n",
            "DataFrame summary:\n",
            "<class 'pandas.core.frame.DataFrame'>\n",
            "RangeIndex: 60 entries, 0 to 59\n",
            "Data columns (total 3 columns):\n",
            " #   Column       Non-Null Count  Dtype\n",
            "---  ------       --------------  -----\n",
            " 0   Year         60 non-null     int64\n",
            " 1   Month        60 non-null     int64\n",
            " 2   Total Cases  60 non-null     int64\n",
            "dtypes: int64(3)\n",
            "memory usage: 1.5 KB\n",
            "None\n"
          ]
        }
      ]
    },
    {
      "cell_type": "code",
      "source": [
        "# Detect missing values\n",
        "print(lyme_df.isnull())"
      ],
      "metadata": {
        "colab": {
          "base_uri": "https://localhost:8080/"
        },
        "id": "AiIyTx9lKpKG",
        "outputId": "ae36d9cf-4902-4730-ee8c-ce990a98638b"
      },
      "execution_count": null,
      "outputs": [
        {
          "output_type": "stream",
          "name": "stdout",
          "text": [
            "     Year  Month  Total Cases\n",
            "0   False  False        False\n",
            "1   False  False        False\n",
            "2   False  False        False\n",
            "3   False  False        False\n",
            "4   False  False        False\n",
            "5   False  False        False\n",
            "6   False  False        False\n",
            "7   False  False        False\n",
            "8   False  False        False\n",
            "9   False  False        False\n",
            "10  False  False        False\n",
            "11  False  False        False\n",
            "12  False  False        False\n",
            "13  False  False        False\n",
            "14  False  False        False\n",
            "15  False  False        False\n",
            "16  False  False        False\n",
            "17  False  False        False\n",
            "18  False  False        False\n",
            "19  False  False        False\n",
            "20  False  False        False\n",
            "21  False  False        False\n",
            "22  False  False        False\n",
            "23  False  False        False\n",
            "24  False  False        False\n",
            "25  False  False        False\n",
            "26  False  False        False\n",
            "27  False  False        False\n",
            "28  False  False        False\n",
            "29  False  False        False\n",
            "30  False  False        False\n",
            "31  False  False        False\n",
            "32  False  False        False\n",
            "33  False  False        False\n",
            "34  False  False        False\n",
            "35  False  False        False\n",
            "36  False  False        False\n",
            "37  False  False        False\n",
            "38  False  False        False\n",
            "39  False  False        False\n",
            "40  False  False        False\n",
            "41  False  False        False\n",
            "42  False  False        False\n",
            "43  False  False        False\n",
            "44  False  False        False\n",
            "45  False  False        False\n",
            "46  False  False        False\n",
            "47  False  False        False\n",
            "48  False  False        False\n",
            "49  False  False        False\n",
            "50  False  False        False\n",
            "51  False  False        False\n",
            "52  False  False        False\n",
            "53  False  False        False\n",
            "54  False  False        False\n",
            "55  False  False        False\n",
            "56  False  False        False\n",
            "57  False  False        False\n",
            "58  False  False        False\n",
            "59  False  False        False\n"
          ]
        }
      ]
    },
    {
      "cell_type": "code",
      "source": [
        "# Correcting data types\n",
        "lyme_df['Year'] = lyme_df['Year'].astype(str)\n",
        "lyme_df['Month'] = lyme_df['Month'].astype(str)\n",
        "\n",
        "print(\"DataFrame after converting 'Year' to string:\\n\", lyme_df)"
      ],
      "metadata": {
        "colab": {
          "base_uri": "https://localhost:8080/"
        },
        "id": "w5_VwS1mVpeO",
        "outputId": "71221ecc-7555-4a2a-bd02-7b0e6bec70a6"
      },
      "execution_count": null,
      "outputs": [
        {
          "output_type": "stream",
          "name": "stdout",
          "text": [
            "DataFrame after converting 'Year' to string:\n",
            "     Year Month  Total Cases\n",
            "0   2019     1            1\n",
            "1   2019     2            0\n",
            "2   2019     3            0\n",
            "3   2019     4            1\n",
            "4   2019     5            6\n",
            "5   2019     6           14\n",
            "6   2019     7           30\n",
            "7   2019     8           22\n",
            "8   2019     9            8\n",
            "9   2019    10            2\n",
            "10  2019    11            4\n",
            "11  2019    12            1\n",
            "12  2020     1            0\n",
            "13  2020     2            1\n",
            "14  2020     3            0\n",
            "15  2020     4            0\n",
            "16  2020     5            4\n",
            "17  2020     6           12\n",
            "18  2020     7            8\n",
            "19  2020     8           11\n",
            "20  2020     9            6\n",
            "21  2020    10            4\n",
            "22  2020    11            2\n",
            "23  2020    12            0\n",
            "24  2021     1            0\n",
            "25  2021     2            1\n",
            "26  2021     3            2\n",
            "27  2021     4            2\n",
            "28  2021     5            6\n",
            "29  2021     6           38\n",
            "30  2021     7           40\n",
            "31  2021     8           25\n",
            "32  2021     9           14\n",
            "33  2021    10            5\n",
            "34  2021    11            3\n",
            "35  2021    12            0\n",
            "36  2022     1            1\n",
            "37  2022     2            0\n",
            "38  2022     3            2\n",
            "39  2022     4            5\n",
            "40  2022     5            6\n",
            "41  2022     6           23\n",
            "42  2022     7           29\n",
            "43  2022     8           28\n",
            "44  2022     9           15\n",
            "45  2022    10            6\n",
            "46  2022    11           10\n",
            "47  2022    12            1\n",
            "48  2023     1            4\n",
            "49  2023     2            4\n",
            "50  2023     3            2\n",
            "51  2023     4            2\n",
            "52  2023     5            3\n",
            "53  2023     6           25\n",
            "54  2023     7           77\n",
            "55  2023     8           29\n",
            "56  2023     9           16\n",
            "57  2023    10            4\n",
            "58  2023    11            4\n",
            "59  2023    12            6\n"
          ]
        }
      ]
    },
    {
      "cell_type": "markdown",
      "source": [
        "# Toronto Climate Data"
      ],
      "metadata": {
        "id": "k5YwBIQmVgqq"
      }
    },
    {
      "cell_type": "code",
      "source": [
        "#Upload the CSV file for Toronto Climate Data and read it into a DataFrame\n",
        "from google.colab import files\n",
        "uploaded = files.upload()\n",
        "climate_df = pd.read_csv('Toronto_Climate_Data.csv')"
      ],
      "metadata": {
        "colab": {
          "base_uri": "https://localhost:8080/",
          "height": 73
        },
        "id": "r6Yp0i_CKrhN",
        "outputId": "0010016f-5cd3-435c-d33d-870fca480142"
      },
      "execution_count": null,
      "outputs": [
        {
          "output_type": "display_data",
          "data": {
            "text/plain": [
              "<IPython.core.display.HTML object>"
            ],
            "text/html": [
              "\n",
              "     <input type=\"file\" id=\"files-615b7fdc-fdee-494b-a3ed-9b0eaf71ce8e\" name=\"files[]\" multiple disabled\n",
              "        style=\"border:none\" />\n",
              "     <output id=\"result-615b7fdc-fdee-494b-a3ed-9b0eaf71ce8e\">\n",
              "      Upload widget is only available when the cell has been executed in the\n",
              "      current browser session. Please rerun this cell to enable.\n",
              "      </output>\n",
              "      <script>// Copyright 2017 Google LLC\n",
              "//\n",
              "// Licensed under the Apache License, Version 2.0 (the \"License\");\n",
              "// you may not use this file except in compliance with the License.\n",
              "// You may obtain a copy of the License at\n",
              "//\n",
              "//      http://www.apache.org/licenses/LICENSE-2.0\n",
              "//\n",
              "// Unless required by applicable law or agreed to in writing, software\n",
              "// distributed under the License is distributed on an \"AS IS\" BASIS,\n",
              "// WITHOUT WARRANTIES OR CONDITIONS OF ANY KIND, either express or implied.\n",
              "// See the License for the specific language governing permissions and\n",
              "// limitations under the License.\n",
              "\n",
              "/**\n",
              " * @fileoverview Helpers for google.colab Python module.\n",
              " */\n",
              "(function(scope) {\n",
              "function span(text, styleAttributes = {}) {\n",
              "  const element = document.createElement('span');\n",
              "  element.textContent = text;\n",
              "  for (const key of Object.keys(styleAttributes)) {\n",
              "    element.style[key] = styleAttributes[key];\n",
              "  }\n",
              "  return element;\n",
              "}\n",
              "\n",
              "// Max number of bytes which will be uploaded at a time.\n",
              "const MAX_PAYLOAD_SIZE = 100 * 1024;\n",
              "\n",
              "function _uploadFiles(inputId, outputId) {\n",
              "  const steps = uploadFilesStep(inputId, outputId);\n",
              "  const outputElement = document.getElementById(outputId);\n",
              "  // Cache steps on the outputElement to make it available for the next call\n",
              "  // to uploadFilesContinue from Python.\n",
              "  outputElement.steps = steps;\n",
              "\n",
              "  return _uploadFilesContinue(outputId);\n",
              "}\n",
              "\n",
              "// This is roughly an async generator (not supported in the browser yet),\n",
              "// where there are multiple asynchronous steps and the Python side is going\n",
              "// to poll for completion of each step.\n",
              "// This uses a Promise to block the python side on completion of each step,\n",
              "// then passes the result of the previous step as the input to the next step.\n",
              "function _uploadFilesContinue(outputId) {\n",
              "  const outputElement = document.getElementById(outputId);\n",
              "  const steps = outputElement.steps;\n",
              "\n",
              "  const next = steps.next(outputElement.lastPromiseValue);\n",
              "  return Promise.resolve(next.value.promise).then((value) => {\n",
              "    // Cache the last promise value to make it available to the next\n",
              "    // step of the generator.\n",
              "    outputElement.lastPromiseValue = value;\n",
              "    return next.value.response;\n",
              "  });\n",
              "}\n",
              "\n",
              "/**\n",
              " * Generator function which is called between each async step of the upload\n",
              " * process.\n",
              " * @param {string} inputId Element ID of the input file picker element.\n",
              " * @param {string} outputId Element ID of the output display.\n",
              " * @return {!Iterable<!Object>} Iterable of next steps.\n",
              " */\n",
              "function* uploadFilesStep(inputId, outputId) {\n",
              "  const inputElement = document.getElementById(inputId);\n",
              "  inputElement.disabled = false;\n",
              "\n",
              "  const outputElement = document.getElementById(outputId);\n",
              "  outputElement.innerHTML = '';\n",
              "\n",
              "  const pickedPromise = new Promise((resolve) => {\n",
              "    inputElement.addEventListener('change', (e) => {\n",
              "      resolve(e.target.files);\n",
              "    });\n",
              "  });\n",
              "\n",
              "  const cancel = document.createElement('button');\n",
              "  inputElement.parentElement.appendChild(cancel);\n",
              "  cancel.textContent = 'Cancel upload';\n",
              "  const cancelPromise = new Promise((resolve) => {\n",
              "    cancel.onclick = () => {\n",
              "      resolve(null);\n",
              "    };\n",
              "  });\n",
              "\n",
              "  // Wait for the user to pick the files.\n",
              "  const files = yield {\n",
              "    promise: Promise.race([pickedPromise, cancelPromise]),\n",
              "    response: {\n",
              "      action: 'starting',\n",
              "    }\n",
              "  };\n",
              "\n",
              "  cancel.remove();\n",
              "\n",
              "  // Disable the input element since further picks are not allowed.\n",
              "  inputElement.disabled = true;\n",
              "\n",
              "  if (!files) {\n",
              "    return {\n",
              "      response: {\n",
              "        action: 'complete',\n",
              "      }\n",
              "    };\n",
              "  }\n",
              "\n",
              "  for (const file of files) {\n",
              "    const li = document.createElement('li');\n",
              "    li.append(span(file.name, {fontWeight: 'bold'}));\n",
              "    li.append(span(\n",
              "        `(${file.type || 'n/a'}) - ${file.size} bytes, ` +\n",
              "        `last modified: ${\n",
              "            file.lastModifiedDate ? file.lastModifiedDate.toLocaleDateString() :\n",
              "                                    'n/a'} - `));\n",
              "    const percent = span('0% done');\n",
              "    li.appendChild(percent);\n",
              "\n",
              "    outputElement.appendChild(li);\n",
              "\n",
              "    const fileDataPromise = new Promise((resolve) => {\n",
              "      const reader = new FileReader();\n",
              "      reader.onload = (e) => {\n",
              "        resolve(e.target.result);\n",
              "      };\n",
              "      reader.readAsArrayBuffer(file);\n",
              "    });\n",
              "    // Wait for the data to be ready.\n",
              "    let fileData = yield {\n",
              "      promise: fileDataPromise,\n",
              "      response: {\n",
              "        action: 'continue',\n",
              "      }\n",
              "    };\n",
              "\n",
              "    // Use a chunked sending to avoid message size limits. See b/62115660.\n",
              "    let position = 0;\n",
              "    do {\n",
              "      const length = Math.min(fileData.byteLength - position, MAX_PAYLOAD_SIZE);\n",
              "      const chunk = new Uint8Array(fileData, position, length);\n",
              "      position += length;\n",
              "\n",
              "      const base64 = btoa(String.fromCharCode.apply(null, chunk));\n",
              "      yield {\n",
              "        response: {\n",
              "          action: 'append',\n",
              "          file: file.name,\n",
              "          data: base64,\n",
              "        },\n",
              "      };\n",
              "\n",
              "      let percentDone = fileData.byteLength === 0 ?\n",
              "          100 :\n",
              "          Math.round((position / fileData.byteLength) * 100);\n",
              "      percent.textContent = `${percentDone}% done`;\n",
              "\n",
              "    } while (position < fileData.byteLength);\n",
              "  }\n",
              "\n",
              "  // All done.\n",
              "  yield {\n",
              "    response: {\n",
              "      action: 'complete',\n",
              "    }\n",
              "  };\n",
              "}\n",
              "\n",
              "scope.google = scope.google || {};\n",
              "scope.google.colab = scope.google.colab || {};\n",
              "scope.google.colab._files = {\n",
              "  _uploadFiles,\n",
              "  _uploadFilesContinue,\n",
              "};\n",
              "})(self);\n",
              "</script> "
            ]
          },
          "metadata": {}
        },
        {
          "output_type": "stream",
          "name": "stdout",
          "text": [
            "Saving Toronto_Climate_Data.csv to Toronto_Climate_Data.csv\n"
          ]
        }
      ]
    },
    {
      "cell_type": "code",
      "source": [
        "#Inspect the first few rows of the DataFrame\n",
        "print(\"First five rows of the dataset:\")\n",
        "print(climate_df.head())\n",
        "\n",
        "#Get a summary of the DataFrame\n",
        "print(\"\\nDataFrame summary:\")\n",
        "print(climate_df.info())"
      ],
      "metadata": {
        "colab": {
          "base_uri": "https://localhost:8080/"
        },
        "id": "bSFFicIjKwQe",
        "outputId": "3f10a5aa-b953-4cad-8d24-f3f11854da2b"
      },
      "execution_count": null,
      "outputs": [
        {
          "output_type": "stream",
          "name": "stdout",
          "text": [
            "First five rows of the dataset:\n",
            "   Longitude (x)  Latitude (y)  Station Name  Climate ID   Date/Time  Year  \\\n",
            "0          -79.4         43.67  TORONTO CITY     6158355  2019-01-01  2019   \n",
            "1          -79.4         43.67  TORONTO CITY     6158355  2019-01-02  2019   \n",
            "2          -79.4         43.67  TORONTO CITY     6158355  2019-01-03  2019   \n",
            "3          -79.4         43.67  TORONTO CITY     6158355  2019-01-04  2019   \n",
            "4          -79.4         43.67  TORONTO CITY     6158355  2019-01-05  2019   \n",
            "\n",
            "   Month  Day  Max Temp  Min Temp  Mean Temp  Heat Deg Days  Cool Deg Days  \\\n",
            "0      1    1       6.3      -6.6       -0.1           18.1            0.0   \n",
            "1      1    2       0.6      -8.2       -3.8           21.8            0.0   \n",
            "2      1    3       1.5      -0.6        0.5           17.5            0.0   \n",
            "3      1    4       7.8       1.2        4.5           13.5            0.0   \n",
            "4      1    5       3.9       1.0        2.5           15.5            0.0   \n",
            "\n",
            "   Total Precip (mm)  Snow on Grnd (cm)  \n",
            "0                0.4                0.0  \n",
            "1                2.9                0.0  \n",
            "2                0.0                5.0  \n",
            "3                0.0                4.0  \n",
            "4                0.0                1.0  \n",
            "\n",
            "DataFrame summary:\n",
            "<class 'pandas.core.frame.DataFrame'>\n",
            "RangeIndex: 1826 entries, 0 to 1825\n",
            "Data columns (total 15 columns):\n",
            " #   Column             Non-Null Count  Dtype  \n",
            "---  ------             --------------  -----  \n",
            " 0   Longitude (x)      1826 non-null   float64\n",
            " 1   Latitude (y)       1826 non-null   float64\n",
            " 2   Station Name       1826 non-null   object \n",
            " 3   Climate ID         1826 non-null   int64  \n",
            " 4   Date/Time          1826 non-null   object \n",
            " 5   Year               1826 non-null   int64  \n",
            " 6   Month              1826 non-null   int64  \n",
            " 7   Day                1826 non-null   int64  \n",
            " 8   Max Temp           1814 non-null   float64\n",
            " 9   Min Temp           1814 non-null   float64\n",
            " 10  Mean Temp          1814 non-null   float64\n",
            " 11  Heat Deg Days      1814 non-null   float64\n",
            " 12  Cool Deg Days      1814 non-null   float64\n",
            " 13  Total Precip (mm)  1814 non-null   float64\n",
            " 14  Snow on Grnd (cm)  498 non-null    float64\n",
            "dtypes: float64(9), int64(4), object(2)\n",
            "memory usage: 214.1+ KB\n",
            "None\n"
          ]
        }
      ]
    },
    {
      "cell_type": "code",
      "source": [
        "climate_df.isna().sum()"
      ],
      "metadata": {
        "colab": {
          "base_uri": "https://localhost:8080/",
          "height": 554
        },
        "id": "CqHAK7P2MjnI",
        "outputId": "5f6f2627-4540-4f7b-fc5a-a4c3d175ca97"
      },
      "execution_count": null,
      "outputs": [
        {
          "output_type": "execute_result",
          "data": {
            "text/plain": [
              "Longitude (x)           0\n",
              "Latitude (y)            0\n",
              "Station Name            0\n",
              "Climate ID              0\n",
              "Date/Time               0\n",
              "Year                    0\n",
              "Month                   0\n",
              "Day                     0\n",
              "Max Temp               12\n",
              "Min Temp               12\n",
              "Mean Temp              12\n",
              "Heat Deg Days          12\n",
              "Cool Deg Days          12\n",
              "Total Precip (mm)      12\n",
              "Snow on Grnd (cm)    1328\n",
              "dtype: int64"
            ],
            "text/html": [
              "<div>\n",
              "<style scoped>\n",
              "    .dataframe tbody tr th:only-of-type {\n",
              "        vertical-align: middle;\n",
              "    }\n",
              "\n",
              "    .dataframe tbody tr th {\n",
              "        vertical-align: top;\n",
              "    }\n",
              "\n",
              "    .dataframe thead th {\n",
              "        text-align: right;\n",
              "    }\n",
              "</style>\n",
              "<table border=\"1\" class=\"dataframe\">\n",
              "  <thead>\n",
              "    <tr style=\"text-align: right;\">\n",
              "      <th></th>\n",
              "      <th>0</th>\n",
              "    </tr>\n",
              "  </thead>\n",
              "  <tbody>\n",
              "    <tr>\n",
              "      <th>Longitude (x)</th>\n",
              "      <td>0</td>\n",
              "    </tr>\n",
              "    <tr>\n",
              "      <th>Latitude (y)</th>\n",
              "      <td>0</td>\n",
              "    </tr>\n",
              "    <tr>\n",
              "      <th>Station Name</th>\n",
              "      <td>0</td>\n",
              "    </tr>\n",
              "    <tr>\n",
              "      <th>Climate ID</th>\n",
              "      <td>0</td>\n",
              "    </tr>\n",
              "    <tr>\n",
              "      <th>Date/Time</th>\n",
              "      <td>0</td>\n",
              "    </tr>\n",
              "    <tr>\n",
              "      <th>Year</th>\n",
              "      <td>0</td>\n",
              "    </tr>\n",
              "    <tr>\n",
              "      <th>Month</th>\n",
              "      <td>0</td>\n",
              "    </tr>\n",
              "    <tr>\n",
              "      <th>Day</th>\n",
              "      <td>0</td>\n",
              "    </tr>\n",
              "    <tr>\n",
              "      <th>Max Temp</th>\n",
              "      <td>12</td>\n",
              "    </tr>\n",
              "    <tr>\n",
              "      <th>Min Temp</th>\n",
              "      <td>12</td>\n",
              "    </tr>\n",
              "    <tr>\n",
              "      <th>Mean Temp</th>\n",
              "      <td>12</td>\n",
              "    </tr>\n",
              "    <tr>\n",
              "      <th>Heat Deg Days</th>\n",
              "      <td>12</td>\n",
              "    </tr>\n",
              "    <tr>\n",
              "      <th>Cool Deg Days</th>\n",
              "      <td>12</td>\n",
              "    </tr>\n",
              "    <tr>\n",
              "      <th>Total Precip (mm)</th>\n",
              "      <td>12</td>\n",
              "    </tr>\n",
              "    <tr>\n",
              "      <th>Snow on Grnd (cm)</th>\n",
              "      <td>1328</td>\n",
              "    </tr>\n",
              "  </tbody>\n",
              "</table>\n",
              "</div><br><label><b>dtype:</b> int64</label>"
            ]
          },
          "metadata": {},
          "execution_count": 7
        }
      ]
    },
    {
      "cell_type": "code",
      "source": [
        "#Remove \"Snow on Grnd (cm)\" due to large number of missing values\n",
        "climate_df = climate_df.drop(columns=['Snow on Grnd (cm)'])"
      ],
      "metadata": {
        "id": "CGhJA6mJV3wC"
      },
      "execution_count": null,
      "outputs": []
    },
    {
      "cell_type": "code",
      "source": [
        "# Detect missing values\n",
        "print(climate_df.isnull())"
      ],
      "metadata": {
        "colab": {
          "base_uri": "https://localhost:8080/"
        },
        "id": "vBKwJDssKx1L",
        "outputId": "ceb635e5-bc5b-4eae-adbb-a9ac38b60b7a"
      },
      "execution_count": null,
      "outputs": [
        {
          "output_type": "stream",
          "name": "stdout",
          "text": [
            "      Longitude (x)  Latitude (y)  Station Name  Climate ID  Date/Time   Year  \\\n",
            "0             False         False         False       False      False  False   \n",
            "1             False         False         False       False      False  False   \n",
            "2             False         False         False       False      False  False   \n",
            "3             False         False         False       False      False  False   \n",
            "4             False         False         False       False      False  False   \n",
            "...             ...           ...           ...         ...        ...    ...   \n",
            "1821          False         False         False       False      False  False   \n",
            "1822          False         False         False       False      False  False   \n",
            "1823          False         False         False       False      False  False   \n",
            "1824          False         False         False       False      False  False   \n",
            "1825          False         False         False       False      False  False   \n",
            "\n",
            "      Month    Day  Max Temp  Min Temp  Mean Temp  Heat Deg Days  \\\n",
            "0     False  False     False     False      False          False   \n",
            "1     False  False     False     False      False          False   \n",
            "2     False  False     False     False      False          False   \n",
            "3     False  False     False     False      False          False   \n",
            "4     False  False     False     False      False          False   \n",
            "...     ...    ...       ...       ...        ...            ...   \n",
            "1821  False  False     False     False      False          False   \n",
            "1822  False  False     False     False      False          False   \n",
            "1823  False  False     False     False      False          False   \n",
            "1824  False  False     False     False      False          False   \n",
            "1825  False  False     False     False      False          False   \n",
            "\n",
            "      Cool Deg Days  Total Precip (mm)  \n",
            "0             False              False  \n",
            "1             False              False  \n",
            "2             False              False  \n",
            "3             False              False  \n",
            "4             False              False  \n",
            "...             ...                ...  \n",
            "1821          False              False  \n",
            "1822          False              False  \n",
            "1823          False              False  \n",
            "1824          False              False  \n",
            "1825          False              False  \n",
            "\n",
            "[1826 rows x 14 columns]\n"
          ]
        }
      ]
    },
    {
      "cell_type": "code",
      "source": [
        "# Drop rows with any missing values\n",
        "climate_df_dropped = climate_df.dropna()\n",
        "print(\"DataFrame after dropping rows with missing values:\\n\", climate_df_dropped)"
      ],
      "metadata": {
        "colab": {
          "base_uri": "https://localhost:8080/"
        },
        "id": "UhrK1NeQKzdN",
        "outputId": "7f0a83f5-8614-46e0-b28d-7bd0af49c31d"
      },
      "execution_count": null,
      "outputs": [
        {
          "output_type": "stream",
          "name": "stdout",
          "text": [
            "DataFrame after dropping rows with missing values:\n",
            "       Longitude (x)  Latitude (y)  Station Name  Climate ID   Date/Time  Year  \\\n",
            "0             -79.4         43.67  TORONTO CITY     6158355  2019-01-01  2019   \n",
            "1             -79.4         43.67  TORONTO CITY     6158355  2019-01-02  2019   \n",
            "2             -79.4         43.67  TORONTO CITY     6158355  2019-01-03  2019   \n",
            "3             -79.4         43.67  TORONTO CITY     6158355  2019-01-04  2019   \n",
            "4             -79.4         43.67  TORONTO CITY     6158355  2019-01-05  2019   \n",
            "...             ...           ...           ...         ...         ...   ...   \n",
            "1821          -79.4         43.67  TORONTO CITY     6158355  2023-12-27  2023   \n",
            "1822          -79.4         43.67  TORONTO CITY     6158355  2023-12-28  2023   \n",
            "1823          -79.4         43.67  TORONTO CITY     6158355  2023-12-29  2023   \n",
            "1824          -79.4         43.67  TORONTO CITY     6158355  2023-12-30  2023   \n",
            "1825          -79.4         43.67  TORONTO CITY     6158355  2023-12-31  2023   \n",
            "\n",
            "      Month  Day  Max Temp  Min Temp  Mean Temp  Heat Deg Days  Cool Deg Days  \\\n",
            "0         1    1       6.3      -6.6       -0.1           18.1            0.0   \n",
            "1         1    2       0.6      -8.2       -3.8           21.8            0.0   \n",
            "2         1    3       1.5      -0.6        0.5           17.5            0.0   \n",
            "3         1    4       7.8       1.2        4.5           13.5            0.0   \n",
            "4         1    5       3.9       1.0        2.5           15.5            0.0   \n",
            "...     ...  ...       ...       ...        ...            ...            ...   \n",
            "1821     12   27       8.4       7.2        7.8           10.2            0.0   \n",
            "1822     12   28       7.9       6.1        7.0           11.0            0.0   \n",
            "1823     12   29       7.1       2.6        4.9           13.1            0.0   \n",
            "1824     12   30       2.7      -0.3        1.2           16.8            0.0   \n",
            "1825     12   31       1.6      -1.0        0.3           17.7            0.0   \n",
            "\n",
            "      Total Precip (mm)  \n",
            "0                   0.4  \n",
            "1                   2.9  \n",
            "2                   0.0  \n",
            "3                   0.0  \n",
            "4                   0.0  \n",
            "...                 ...  \n",
            "1821               16.4  \n",
            "1822                3.3  \n",
            "1823                4.5  \n",
            "1824                0.0  \n",
            "1825                2.3  \n",
            "\n",
            "[1814 rows x 14 columns]\n"
          ]
        }
      ]
    },
    {
      "cell_type": "code",
      "source": [
        "# Calculate missing value percentage\n",
        "missing_percent = climate_df.isnull().sum() / len(climate_df) * 100\n",
        "print(\"Percentage of Missing Values:\\n\", missing_percent)"
      ],
      "metadata": {
        "colab": {
          "base_uri": "https://localhost:8080/"
        },
        "id": "5lesByDRBMjj",
        "outputId": "e86ffd94-1a30-4fd3-a2fc-f9bb9b875b7c"
      },
      "execution_count": null,
      "outputs": [
        {
          "output_type": "stream",
          "name": "stdout",
          "text": [
            "Percentage of Missing Values:\n",
            " Longitude (x)        0.000000\n",
            "Latitude (y)         0.000000\n",
            "Station Name         0.000000\n",
            "Climate ID           0.000000\n",
            "Date/Time            0.000000\n",
            "Year                 0.000000\n",
            "Month                0.000000\n",
            "Day                  0.000000\n",
            "Max Temp             0.657174\n",
            "Min Temp             0.657174\n",
            "Mean Temp            0.657174\n",
            "Heat Deg Days        0.657174\n",
            "Cool Deg Days        0.657174\n",
            "Total Precip (mm)    0.657174\n",
            "dtype: float64\n"
          ]
        }
      ]
    },
    {
      "cell_type": "code",
      "source": [
        "#Identify duplicates\n",
        "duplicates = climate_df.duplicated()\n",
        "print(\"Duplicate rows:\\n\", duplicates)"
      ],
      "metadata": {
        "colab": {
          "base_uri": "https://localhost:8080/"
        },
        "id": "k3Kvw-yVK1CR",
        "outputId": "06341df8-36c4-46b7-e4d8-fbace56bfcbe"
      },
      "execution_count": null,
      "outputs": [
        {
          "output_type": "stream",
          "name": "stdout",
          "text": [
            "Duplicate rows:\n",
            " 0       False\n",
            "1       False\n",
            "2       False\n",
            "3       False\n",
            "4       False\n",
            "        ...  \n",
            "1821    False\n",
            "1822    False\n",
            "1823    False\n",
            "1824    False\n",
            "1825    False\n",
            "Length: 1826, dtype: bool\n"
          ]
        }
      ]
    },
    {
      "cell_type": "code",
      "source": [
        "# Remove duplicates\n",
        "climate_df_no_duplicates = climate_df.drop_duplicates()\n",
        "print(\"DataFrame after removing duplicates:\\n\", climate_df_no_duplicates)"
      ],
      "metadata": {
        "colab": {
          "base_uri": "https://localhost:8080/"
        },
        "id": "2fU7CW17K2oE",
        "outputId": "78d5e2d6-1645-47ad-ce44-8d16d506a613"
      },
      "execution_count": null,
      "outputs": [
        {
          "output_type": "stream",
          "name": "stdout",
          "text": [
            "DataFrame after removing duplicates:\n",
            "       Longitude (x)  Latitude (y)  Station Name  Climate ID   Date/Time  Year  \\\n",
            "0             -79.4         43.67  TORONTO CITY     6158355  2019-01-01  2019   \n",
            "1             -79.4         43.67  TORONTO CITY     6158355  2019-01-02  2019   \n",
            "2             -79.4         43.67  TORONTO CITY     6158355  2019-01-03  2019   \n",
            "3             -79.4         43.67  TORONTO CITY     6158355  2019-01-04  2019   \n",
            "4             -79.4         43.67  TORONTO CITY     6158355  2019-01-05  2019   \n",
            "...             ...           ...           ...         ...         ...   ...   \n",
            "1821          -79.4         43.67  TORONTO CITY     6158355  2023-12-27  2023   \n",
            "1822          -79.4         43.67  TORONTO CITY     6158355  2023-12-28  2023   \n",
            "1823          -79.4         43.67  TORONTO CITY     6158355  2023-12-29  2023   \n",
            "1824          -79.4         43.67  TORONTO CITY     6158355  2023-12-30  2023   \n",
            "1825          -79.4         43.67  TORONTO CITY     6158355  2023-12-31  2023   \n",
            "\n",
            "      Month  Day  Max Temp  Min Temp  Mean Temp  Heat Deg Days  Cool Deg Days  \\\n",
            "0         1    1       6.3      -6.6       -0.1           18.1            0.0   \n",
            "1         1    2       0.6      -8.2       -3.8           21.8            0.0   \n",
            "2         1    3       1.5      -0.6        0.5           17.5            0.0   \n",
            "3         1    4       7.8       1.2        4.5           13.5            0.0   \n",
            "4         1    5       3.9       1.0        2.5           15.5            0.0   \n",
            "...     ...  ...       ...       ...        ...            ...            ...   \n",
            "1821     12   27       8.4       7.2        7.8           10.2            0.0   \n",
            "1822     12   28       7.9       6.1        7.0           11.0            0.0   \n",
            "1823     12   29       7.1       2.6        4.9           13.1            0.0   \n",
            "1824     12   30       2.7      -0.3        1.2           16.8            0.0   \n",
            "1825     12   31       1.6      -1.0        0.3           17.7            0.0   \n",
            "\n",
            "      Total Precip (mm)  \n",
            "0                   0.4  \n",
            "1                   2.9  \n",
            "2                   0.0  \n",
            "3                   0.0  \n",
            "4                   0.0  \n",
            "...                 ...  \n",
            "1821               16.4  \n",
            "1822                3.3  \n",
            "1823                4.5  \n",
            "1824                0.0  \n",
            "1825                2.3  \n",
            "\n",
            "[1826 rows x 14 columns]\n"
          ]
        }
      ]
    },
    {
      "cell_type": "code",
      "source": [
        "# Correcting data types\n",
        "climate_df['Year'] = climate_df['Year'].astype(str)\n",
        "climate_df['Month'] = climate_df['Month'].astype(str)\n",
        "\n",
        "print(\"DataFrame after converting 'Year' and 'Month' to string:\\n\", climate_df)"
      ],
      "metadata": {
        "colab": {
          "base_uri": "https://localhost:8080/"
        },
        "id": "TNokpqhqWCZM",
        "outputId": "8ac21d40-fe15-4a32-f9b2-1848e2c98b97"
      },
      "execution_count": null,
      "outputs": [
        {
          "output_type": "stream",
          "name": "stdout",
          "text": [
            "DataFrame after converting 'Year' and 'Month' to string:\n",
            "       Longitude (x)  Latitude (y)  Station Name  Climate ID   Date/Time  Year  \\\n",
            "0             -79.4         43.67  TORONTO CITY     6158355  2019-01-01  2019   \n",
            "1             -79.4         43.67  TORONTO CITY     6158355  2019-01-02  2019   \n",
            "2             -79.4         43.67  TORONTO CITY     6158355  2019-01-03  2019   \n",
            "3             -79.4         43.67  TORONTO CITY     6158355  2019-01-04  2019   \n",
            "4             -79.4         43.67  TORONTO CITY     6158355  2019-01-05  2019   \n",
            "...             ...           ...           ...         ...         ...   ...   \n",
            "1821          -79.4         43.67  TORONTO CITY     6158355  2023-12-27  2023   \n",
            "1822          -79.4         43.67  TORONTO CITY     6158355  2023-12-28  2023   \n",
            "1823          -79.4         43.67  TORONTO CITY     6158355  2023-12-29  2023   \n",
            "1824          -79.4         43.67  TORONTO CITY     6158355  2023-12-30  2023   \n",
            "1825          -79.4         43.67  TORONTO CITY     6158355  2023-12-31  2023   \n",
            "\n",
            "     Month  Day  Max Temp  Min Temp  Mean Temp  Heat Deg Days  Cool Deg Days  \\\n",
            "0        1    1       6.3      -6.6       -0.1           18.1            0.0   \n",
            "1        1    2       0.6      -8.2       -3.8           21.8            0.0   \n",
            "2        1    3       1.5      -0.6        0.5           17.5            0.0   \n",
            "3        1    4       7.8       1.2        4.5           13.5            0.0   \n",
            "4        1    5       3.9       1.0        2.5           15.5            0.0   \n",
            "...    ...  ...       ...       ...        ...            ...            ...   \n",
            "1821    12   27       8.4       7.2        7.8           10.2            0.0   \n",
            "1822    12   28       7.9       6.1        7.0           11.0            0.0   \n",
            "1823    12   29       7.1       2.6        4.9           13.1            0.0   \n",
            "1824    12   30       2.7      -0.3        1.2           16.8            0.0   \n",
            "1825    12   31       1.6      -1.0        0.3           17.7            0.0   \n",
            "\n",
            "      Total Precip (mm)  \n",
            "0                   0.4  \n",
            "1                   2.9  \n",
            "2                   0.0  \n",
            "3                   0.0  \n",
            "4                   0.0  \n",
            "...                 ...  \n",
            "1821               16.4  \n",
            "1822                3.3  \n",
            "1823                4.5  \n",
            "1824                0.0  \n",
            "1825                2.3  \n",
            "\n",
            "[1826 rows x 14 columns]\n"
          ]
        }
      ]
    },
    {
      "cell_type": "code",
      "source": [
        "# Convert 'Mean Temp' column to a NumPy array\n",
        "mean_temp = climate_df['Mean Temp'].values\n",
        "\n",
        "# Replace missing values with the column's mean\n",
        "avg_mean_temp = np.nanmean(mean_temp)\n",
        "mean_temp = np.where(np.isnan(mean_temp), avg_mean_temp, mean_temp)\n",
        "\n",
        "# Assign back to DataFrame\n",
        "climate_df['Mean Temp'] = mean_temp"
      ],
      "metadata": {
        "id": "bnIIY97GWJ2t"
      },
      "execution_count": null,
      "outputs": []
    },
    {
      "cell_type": "code",
      "source": [
        "# Convert 'Precipitation (mm)' column into a NumPy array\n",
        "total_precip = climate_df['Total Precip (mm)'].values\n",
        "\n",
        "# Compute the average and maximum precipitation\n",
        "avg_precip = np.mean(total_precip)\n",
        "max_precip = np.max(total_precip)\n",
        "\n",
        "print(f\"Average Precipitation (mm): {avg_precip:.2f} mm\")\n",
        "print(f\"Max Precipitation (mm): {max_precip} mm\")"
      ],
      "metadata": {
        "colab": {
          "base_uri": "https://localhost:8080/"
        },
        "id": "qEd5x72LzTCt",
        "outputId": "95b974d7-8779-407e-c5fe-e15d600409b9"
      },
      "execution_count": null,
      "outputs": [
        {
          "output_type": "stream",
          "name": "stdout",
          "text": [
            "Average Precipitation (mm): nan mm\n",
            "Max Precipitation (mm): nan mm\n"
          ]
        }
      ]
    },
    {
      "cell_type": "markdown",
      "source": [
        "# Combining the Datasets"
      ],
      "metadata": {
        "id": "Owjh-WgyGs1I"
      }
    },
    {
      "cell_type": "code",
      "source": [
        "#Combining the average mean temp values in Toronto Climate Data for a single month\n",
        "climate_df = climate_df.groupby(['Year', 'Month']).agg({'Mean Temp': 'mean'}).reset_index()"
      ],
      "metadata": {
        "id": "ykOUgE3iG1mR"
      },
      "execution_count": null,
      "outputs": []
    },
    {
      "cell_type": "code",
      "source": [
        "#Remove \"Year\" and \"Month\" in Climate Dataset before combining\n",
        "climate_df = climate_df.drop(columns=['Year', \"Month\"])\n",
        "\n",
        "# Combine the cleaned ratings and review lengths into a new array and save it\n",
        "np.savetxt('cleaned_lyme_climate.csv', np.column_stack((lyme_df, climate_df)), delimiter=\",\", fmt='%s', header=\"Year,Month,Lyme Case Count,Average Mean Temp\")"
      ],
      "metadata": {
        "id": "QRblT7MdG7Dj"
      },
      "execution_count": null,
      "outputs": []
    },
    {
      "cell_type": "markdown",
      "source": [
        "# Normalization and Transformation"
      ],
      "metadata": {
        "id": "CETW_dLLG70p"
      }
    },
    {
      "cell_type": "code",
      "source": [
        "#Upload the CSV file for Combined Datasets and read it into a DataFrame\n",
        "from google.colab import files\n",
        "uploaded = files.upload()\n",
        "combined_df = pd.read_csv('cleaned_lyme_climate.csv', names=['Year', 'Month', 'Lyme Case Count', 'Average Mean Temp'], header=0)\n",
        "\n",
        "\n"
      ],
      "metadata": {
        "colab": {
          "base_uri": "https://localhost:8080/",
          "height": 73
        },
        "id": "g4Xg28VWZCwB",
        "outputId": "747ed9f9-3fb9-44ff-aee5-52c04f8c5f70"
      },
      "execution_count": null,
      "outputs": [
        {
          "output_type": "display_data",
          "data": {
            "text/plain": [
              "<IPython.core.display.HTML object>"
            ],
            "text/html": [
              "\n",
              "     <input type=\"file\" id=\"files-5adcaf70-483a-4f38-8fdc-39e144dfa5ce\" name=\"files[]\" multiple disabled\n",
              "        style=\"border:none\" />\n",
              "     <output id=\"result-5adcaf70-483a-4f38-8fdc-39e144dfa5ce\">\n",
              "      Upload widget is only available when the cell has been executed in the\n",
              "      current browser session. Please rerun this cell to enable.\n",
              "      </output>\n",
              "      <script>// Copyright 2017 Google LLC\n",
              "//\n",
              "// Licensed under the Apache License, Version 2.0 (the \"License\");\n",
              "// you may not use this file except in compliance with the License.\n",
              "// You may obtain a copy of the License at\n",
              "//\n",
              "//      http://www.apache.org/licenses/LICENSE-2.0\n",
              "//\n",
              "// Unless required by applicable law or agreed to in writing, software\n",
              "// distributed under the License is distributed on an \"AS IS\" BASIS,\n",
              "// WITHOUT WARRANTIES OR CONDITIONS OF ANY KIND, either express or implied.\n",
              "// See the License for the specific language governing permissions and\n",
              "// limitations under the License.\n",
              "\n",
              "/**\n",
              " * @fileoverview Helpers for google.colab Python module.\n",
              " */\n",
              "(function(scope) {\n",
              "function span(text, styleAttributes = {}) {\n",
              "  const element = document.createElement('span');\n",
              "  element.textContent = text;\n",
              "  for (const key of Object.keys(styleAttributes)) {\n",
              "    element.style[key] = styleAttributes[key];\n",
              "  }\n",
              "  return element;\n",
              "}\n",
              "\n",
              "// Max number of bytes which will be uploaded at a time.\n",
              "const MAX_PAYLOAD_SIZE = 100 * 1024;\n",
              "\n",
              "function _uploadFiles(inputId, outputId) {\n",
              "  const steps = uploadFilesStep(inputId, outputId);\n",
              "  const outputElement = document.getElementById(outputId);\n",
              "  // Cache steps on the outputElement to make it available for the next call\n",
              "  // to uploadFilesContinue from Python.\n",
              "  outputElement.steps = steps;\n",
              "\n",
              "  return _uploadFilesContinue(outputId);\n",
              "}\n",
              "\n",
              "// This is roughly an async generator (not supported in the browser yet),\n",
              "// where there are multiple asynchronous steps and the Python side is going\n",
              "// to poll for completion of each step.\n",
              "// This uses a Promise to block the python side on completion of each step,\n",
              "// then passes the result of the previous step as the input to the next step.\n",
              "function _uploadFilesContinue(outputId) {\n",
              "  const outputElement = document.getElementById(outputId);\n",
              "  const steps = outputElement.steps;\n",
              "\n",
              "  const next = steps.next(outputElement.lastPromiseValue);\n",
              "  return Promise.resolve(next.value.promise).then((value) => {\n",
              "    // Cache the last promise value to make it available to the next\n",
              "    // step of the generator.\n",
              "    outputElement.lastPromiseValue = value;\n",
              "    return next.value.response;\n",
              "  });\n",
              "}\n",
              "\n",
              "/**\n",
              " * Generator function which is called between each async step of the upload\n",
              " * process.\n",
              " * @param {string} inputId Element ID of the input file picker element.\n",
              " * @param {string} outputId Element ID of the output display.\n",
              " * @return {!Iterable<!Object>} Iterable of next steps.\n",
              " */\n",
              "function* uploadFilesStep(inputId, outputId) {\n",
              "  const inputElement = document.getElementById(inputId);\n",
              "  inputElement.disabled = false;\n",
              "\n",
              "  const outputElement = document.getElementById(outputId);\n",
              "  outputElement.innerHTML = '';\n",
              "\n",
              "  const pickedPromise = new Promise((resolve) => {\n",
              "    inputElement.addEventListener('change', (e) => {\n",
              "      resolve(e.target.files);\n",
              "    });\n",
              "  });\n",
              "\n",
              "  const cancel = document.createElement('button');\n",
              "  inputElement.parentElement.appendChild(cancel);\n",
              "  cancel.textContent = 'Cancel upload';\n",
              "  const cancelPromise = new Promise((resolve) => {\n",
              "    cancel.onclick = () => {\n",
              "      resolve(null);\n",
              "    };\n",
              "  });\n",
              "\n",
              "  // Wait for the user to pick the files.\n",
              "  const files = yield {\n",
              "    promise: Promise.race([pickedPromise, cancelPromise]),\n",
              "    response: {\n",
              "      action: 'starting',\n",
              "    }\n",
              "  };\n",
              "\n",
              "  cancel.remove();\n",
              "\n",
              "  // Disable the input element since further picks are not allowed.\n",
              "  inputElement.disabled = true;\n",
              "\n",
              "  if (!files) {\n",
              "    return {\n",
              "      response: {\n",
              "        action: 'complete',\n",
              "      }\n",
              "    };\n",
              "  }\n",
              "\n",
              "  for (const file of files) {\n",
              "    const li = document.createElement('li');\n",
              "    li.append(span(file.name, {fontWeight: 'bold'}));\n",
              "    li.append(span(\n",
              "        `(${file.type || 'n/a'}) - ${file.size} bytes, ` +\n",
              "        `last modified: ${\n",
              "            file.lastModifiedDate ? file.lastModifiedDate.toLocaleDateString() :\n",
              "                                    'n/a'} - `));\n",
              "    const percent = span('0% done');\n",
              "    li.appendChild(percent);\n",
              "\n",
              "    outputElement.appendChild(li);\n",
              "\n",
              "    const fileDataPromise = new Promise((resolve) => {\n",
              "      const reader = new FileReader();\n",
              "      reader.onload = (e) => {\n",
              "        resolve(e.target.result);\n",
              "      };\n",
              "      reader.readAsArrayBuffer(file);\n",
              "    });\n",
              "    // Wait for the data to be ready.\n",
              "    let fileData = yield {\n",
              "      promise: fileDataPromise,\n",
              "      response: {\n",
              "        action: 'continue',\n",
              "      }\n",
              "    };\n",
              "\n",
              "    // Use a chunked sending to avoid message size limits. See b/62115660.\n",
              "    let position = 0;\n",
              "    do {\n",
              "      const length = Math.min(fileData.byteLength - position, MAX_PAYLOAD_SIZE);\n",
              "      const chunk = new Uint8Array(fileData, position, length);\n",
              "      position += length;\n",
              "\n",
              "      const base64 = btoa(String.fromCharCode.apply(null, chunk));\n",
              "      yield {\n",
              "        response: {\n",
              "          action: 'append',\n",
              "          file: file.name,\n",
              "          data: base64,\n",
              "        },\n",
              "      };\n",
              "\n",
              "      let percentDone = fileData.byteLength === 0 ?\n",
              "          100 :\n",
              "          Math.round((position / fileData.byteLength) * 100);\n",
              "      percent.textContent = `${percentDone}% done`;\n",
              "\n",
              "    } while (position < fileData.byteLength);\n",
              "  }\n",
              "\n",
              "  // All done.\n",
              "  yield {\n",
              "    response: {\n",
              "      action: 'complete',\n",
              "    }\n",
              "  };\n",
              "}\n",
              "\n",
              "scope.google = scope.google || {};\n",
              "scope.google.colab = scope.google.colab || {};\n",
              "scope.google.colab._files = {\n",
              "  _uploadFiles,\n",
              "  _uploadFilesContinue,\n",
              "};\n",
              "})(self);\n",
              "</script> "
            ]
          },
          "metadata": {}
        },
        {
          "output_type": "stream",
          "name": "stdout",
          "text": [
            "Saving cleaned_lyme_climate.csv to cleaned_lyme_climate (1).csv\n"
          ]
        }
      ]
    },
    {
      "cell_type": "code",
      "source": [
        "for index, i in combined_df.iterrows():\n",
        "  print(i['Lyme Case Count'], i['Average Mean Temp'])"
      ],
      "metadata": {
        "colab": {
          "base_uri": "https://localhost:8080/"
        },
        "id": "D5rjLL7glXbG",
        "outputId": "af5ac299-af15-453a-ebbc-109450da5f6f"
      },
      "execution_count": null,
      "outputs": [
        {
          "output_type": "stream",
          "name": "stdout",
          "text": [
            "1.0 -5.358064516129032\n",
            "0.0 11.648387096774194\n",
            "0.0 2.02\n",
            "1.0 0.8420261763346019\n",
            "6.0 -2.9428571428571426\n",
            "14.0 0.1419354838709677\n",
            "30.0 7.243427048879088\n",
            "22.0 12.361290322580643\n",
            "8.0 18.716666666666665\n",
            "2.0 23.467741935483872\n",
            "4.0 21.142026176334603\n",
            "1.0 17.983333333333334\n",
            "0.0 -0.1547480172137853\n",
            "1.0 10.119536223636944\n",
            "0.0 7.553333333333333\n",
            "0.0 0.7709677419354838\n",
            "4.0 -1.906896551724138\n",
            "12.0 3.958064516129032\n",
            "8.0 6.6033333333333335\n",
            "11.0 12.783870967741937\n",
            "6.0 20.9\n",
            "4.0 25.41290322580645\n",
            "2.0 21.98718746665718\n",
            "0.0 17.4\n",
            "0.0 -1.3838709677419354\n",
            "1.0 14.041935483870969\n",
            "2.0 5.546854097758176\n",
            "2.0 2.480645161290323\n",
            "6.0 -3.817857142857143\n",
            "38.0 3.987096774193548\n",
            "40.0 8.42\n",
            "25.0 14.380645161290325\n",
            "14.0 21.436666666666667\n",
            "5.0 21.20654230536686\n",
            "3.0 24.10967741935484\n",
            "0.0 18.433333333333334\n",
            "1.0 -6.774193548387097\n",
            "0.0 11.203316498915246\n",
            "2.0 6.069999999999999\n",
            "5.0 0.6387096774193549\n",
            "6.0 -3.1142857142857143\n",
            "23.0 2.2451612903225806\n",
            "29.0 7.21\n",
            "28.0 16.129032258064516\n",
            "15.0 19.57\n",
            "6.0 22.751612903225805\n",
            "10.0 22.874193548387098\n",
            "1.0 18.186666666666667\n",
            "4.0 0.1967741935483871\n",
            "4.0 12.812903225806451\n",
            "2.0 4.980093715545755\n",
            "2.0 3.6\n",
            "3.0 -0.1285714285714285\n",
            "25.0 1.970967741935484\n",
            "77.0 9.49\n",
            "29.0 14.293548387096775\n",
            "16.0 19.746666666666663\n",
            "4.0 22.73225806451613\n",
            "4.0 20.664516129032258\n",
            "6.0 19.28666666666667\n"
          ]
        }
      ]
    },
    {
      "cell_type": "code",
      "source": [
        "from sklearn.preprocessing import MinMaxScaler\n",
        "\n",
        "#Applying Min-Max Scaler\n",
        "scaler =  MinMaxScaler()\n",
        "standardized_data = scaler.fit_transform(combined_df[['Lyme Case Count', 'Average Mean Temp']])\n",
        "combined_df[['Lyme Case Count', 'Average Mean Temp']] = standardized_data\n",
        "\n",
        "print(standardized_data)"
      ],
      "metadata": {
        "colab": {
          "base_uri": "https://localhost:8080/"
        },
        "id": "ODzXG4NVHFrR",
        "outputId": "be53ff82-68b7-44dd-92aa-5adafbbccaf0"
      },
      "execution_count": null,
      "outputs": [
        {
          "output_type": "stream",
          "name": "stdout",
          "text": [
            "[[0.01298701 0.04399679]\n",
            " [0.         0.57235919]\n",
            " [0.         0.27322109]\n",
            " [0.01298701 0.23662338]\n",
            " [0.07792208 0.1190333 ]\n",
            " [0.18181818 0.21487272]\n",
            " [0.38961039 0.43550435]\n",
            " [0.28571429 0.59450792]\n",
            " [0.1038961  0.79195898]\n",
            " [0.02597403 0.93956705]\n",
            " [0.05194805 0.8673109 ]\n",
            " [0.01298701 0.76917552]\n",
            " [0.         0.20565525]\n",
            " [0.01298701 0.52486032]\n",
            " [0.         0.44513263]\n",
            " [0.         0.23441571]\n",
            " [0.05194805 0.15121889]\n",
            " [0.15584416 0.33343355]\n",
            " [0.1038961  0.41561769]\n",
            " [0.14285714 0.6076368 ]\n",
            " [0.07792208 0.85979154]\n",
            " [0.05194805 1.        ]\n",
            " [0.02597403 0.89356866]\n",
            " [0.         0.75105232]\n",
            " [0.         0.16746843]\n",
            " [0.01298701 0.64672279]\n",
            " [0.02597403 0.38279463]\n",
            " [0.02597403 0.28753257]\n",
            " [0.07792208 0.0918485 ]\n",
            " [0.49350649 0.33433554]\n",
            " [0.51948052 0.47205853]\n",
            " [0.32467532 0.65724594]\n",
            " [0.18181818 0.87646489]\n",
            " [0.06493506 0.86931531]\n",
            " [0.03896104 0.95951092]\n",
            " [0.         0.78315628]\n",
            " [0.01298701 0.        ]\n",
            " [0.         0.55853158]\n",
            " [0.02597403 0.39904791]\n",
            " [0.06493506 0.23030667]\n",
            " [0.07792208 0.1137073 ]\n",
            " [0.2987013  0.28021648]\n",
            " [0.37662338 0.43446582]\n",
            " [0.36363636 0.71156544]\n",
            " [0.19480519 0.81847064]\n",
            " [0.07792208 0.9173181 ]\n",
            " [0.12987013 0.92112648]\n",
            " [0.01298701 0.77549275]\n",
            " [0.05194805 0.21657647]\n",
            " [0.05194805 0.60853879]\n",
            " [0.02597403 0.36518632]\n",
            " [0.02597403 0.32230908]\n",
            " [0.03896104 0.20646852]\n",
            " [0.32467532 0.27169774]\n",
            " [1.         0.50530166]\n",
            " [0.37662338 0.65453999]\n",
            " [0.20779221 0.82395938]\n",
            " [0.05194805 0.91671678]\n",
            " [0.05194805 0.85247545]\n",
            " [0.07792208 0.80966794]]\n"
          ]
        }
      ]
    },
    {
      "cell_type": "code",
      "source": [
        "import statsmodels.api as sm\n",
        "import matplotlib.pyplot as plt\n",
        "\n",
        "#create Q-Q plot with 45-degree line added to plot to check for normal distribution\n",
        "fig = sm.qqplot(standardized_data, line='45')\n",
        "plt.show()"
      ],
      "metadata": {
        "colab": {
          "base_uri": "https://localhost:8080/",
          "height": 449
        },
        "id": "lX7Nd6pXipqQ",
        "outputId": "654936a2-c106-4f2a-847d-5d67373f0c76"
      },
      "execution_count": null,
      "outputs": [
        {
          "output_type": "display_data",
          "data": {
            "text/plain": [
              "<Figure size 640x480 with 1 Axes>"
            ],
            "image/png": "[encoded data removed]"
          },
          "metadata": {}
        }
      ]
    },
    {
      "cell_type": "code",
      "source": [
        "#Apply Cube Root Transformation\n",
        "cube_transformed = np.cbrt(combined_df[['Lyme Case Count', 'Average Mean Temp']])\n",
        "combined_df[['Lyme Case Count', 'Average Mean Temp']] = cube_transformed\n",
        "\n",
        "print(cube_transformed)"
      ],
      "metadata": {
        "colab": {
          "base_uri": "https://localhost:8080/"
        },
        "id": "fkt2v5TnjEek",
        "outputId": "138c9b1e-74c9-4432-c10e-012aeefc7b60"
      },
      "execution_count": null,
      "outputs": [
        {
          "output_type": "stream",
          "name": "stdout",
          "text": [
            "    Lyme Case Count  Average Mean Temp\n",
            "0          0.235055           0.353026\n",
            "1          0.000000           0.830277\n",
            "2          0.000000           0.648890\n",
            "3          0.235055           0.618518\n",
            "4          0.427124           0.491914\n",
            "5          0.566516           0.598954\n",
            "6          0.730371           0.757991\n",
            "7          0.658634           0.840851\n",
            "8          0.470110           0.925197\n",
            "9          0.296151           0.979436\n",
            "10         0.373127           0.953656\n",
            "11         0.235055           0.916238\n",
            "12         0.000000           0.590264\n",
            "13         0.235055           0.806643\n",
            "14         0.000000           0.763537\n",
            "15         0.000000           0.616589\n",
            "16         0.373127           0.532765\n",
            "17         0.538142           0.693431\n",
            "18         0.470110           0.746273\n",
            "19         0.522758           0.846996\n",
            "20         0.427124           0.950892\n",
            "21         0.373127           1.000000\n",
            "22         0.296151           0.963184\n",
            "23         0.000000           0.908985\n",
            "24         0.000000           0.551202\n",
            "25         0.235055           0.864781\n",
            "26         0.296151           0.726087\n",
            "27         0.296151           0.660028\n",
            "28         0.427124           0.451188\n",
            "29         0.790250           0.694055\n",
            "30         0.803877           0.778631\n",
            "31         0.687305           0.869446\n",
            "32         0.566516           0.956999\n",
            "33         0.401939           0.954390\n",
            "34         0.339008           0.986317\n",
            "35         0.000000           0.921756\n",
            "36         0.235055           0.000000\n",
            "37         0.000000           0.823536\n",
            "38         0.296151           0.736221\n",
            "39         0.401939           0.612965\n",
            "40         0.427124           0.484465\n",
            "41         0.668466           0.654382\n",
            "42         0.722164           0.757388\n",
            "43         0.713766           0.892767\n",
            "44         0.579696           0.935408\n",
            "45         0.427124           0.971643\n",
            "46         0.506411           0.972986\n",
            "47         0.235055           0.918740\n",
            "48         0.373127           0.600533\n",
            "49         0.373127           0.847415\n",
            "50         0.296151           0.714779\n",
            "51         0.296151           0.685632\n",
            "52         0.339008           0.591041\n",
            "53         0.687305           0.647682\n",
            "54         1.000000           0.796496\n",
            "55         0.722164           0.868251\n",
            "56         0.592302           0.937494\n",
            "57         0.373127           0.971430\n",
            "58         0.373127           0.948187\n",
            "59         0.427124           0.932042\n"
          ]
        }
      ]
    },
    {
      "cell_type": "markdown",
      "source": [
        "# Perform Data Quality Checks"
      ],
      "metadata": {
        "id": "D3a28s41rv2p"
      }
    },
    {
      "cell_type": "code",
      "source": [
        "# Check for missing values\n",
        "print(combined_df.isnull().sum())  # Shows count of missing values per column"
      ],
      "metadata": {
        "id": "sbDdyUjdrzbT",
        "colab": {
          "base_uri": "https://localhost:8080/"
        },
        "outputId": "69409536-6d4f-450b-a662-11f79cf306b2"
      },
      "execution_count": null,
      "outputs": [
        {
          "output_type": "stream",
          "name": "stdout",
          "text": [
            "Year                 0\n",
            "Month                0\n",
            "Lyme Case Count      0\n",
            "Average Mean Temp    0\n",
            "dtype: int64\n"
          ]
        }
      ]
    },
    {
      "cell_type": "code",
      "source": [
        "print(combined_df.dtypes)  # Shows data type of each column"
      ],
      "metadata": {
        "id": "SsdZ644Pr_5i",
        "colab": {
          "base_uri": "https://localhost:8080/"
        },
        "outputId": "01a19c00-7570-4638-caad-9577589315e4"
      },
      "execution_count": null,
      "outputs": [
        {
          "output_type": "stream",
          "name": "stdout",
          "text": [
            "Year                   int64\n",
            "Month                  int64\n",
            "Lyme Case Count      float64\n",
            "Average Mean Temp    float64\n",
            "dtype: object\n"
          ]
        }
      ]
    },
    {
      "cell_type": "code",
      "source": [
        "# Correcting data types\n",
        "combined_df['Year'] = combined_df['Year'].astype(str)\n",
        "combined_df['Month'] = combined_df['Month'].astype(str)\n",
        "\n",
        "print(\"DataFrame after converting 'Year' and 'Month' to string:\\n\", combined_df)"
      ],
      "metadata": {
        "id": "LCH52S7MsBnY",
        "colab": {
          "base_uri": "https://localhost:8080/"
        },
        "outputId": "864e8772-9f94-44d7-bd2c-1f8549d98186"
      },
      "execution_count": null,
      "outputs": [
        {
          "output_type": "stream",
          "name": "stdout",
          "text": [
            "DataFrame after converting 'Year' and 'Month' to string:\n",
            "     Year Month  Lyme Case Count  Average Mean Temp\n",
            "0   2019     1        -0.860496          -1.192226\n",
            "1   2019     2        -0.892693           0.548915\n",
            "2   2019     3        -0.892693          -0.961064\n",
            "3   2019     4        -0.860496          -1.005476\n",
            "4   2019     5        -0.643121          -1.126749\n",
            "5   2019     6         0.689543          -1.030114\n",
            "6   2019     7         1.148660          -0.681406\n",
            "7   2019     8         0.973192           0.624336\n",
            "8   2019     9        -0.489840           0.979052\n",
            "9   2019    10        -0.825689           1.133954\n",
            "10  2019    11        -0.745580           1.063758\n",
            "11  2019    12        -0.860496           0.950325\n",
            "12  2020     1        -0.892693          -1.040207\n",
            "13  2020     2        -0.860496          -0.122116\n",
            "14  2020     3        -0.892693          -0.656148\n",
            "15  2020     4        -0.892693          -1.008032\n",
            "16  2020     5        -0.745580          -1.096178\n",
            "17  2020     6         0.563987          -0.877514\n",
            "18  2020     7        -0.489840          -0.728356\n",
            "19  2020     8         0.472011           0.661592\n",
            "20  2020     9        -0.643121           1.055902\n",
            "21  2020    10        -0.745580           1.186620\n",
            "22  2020    11        -0.825689           1.090318\n",
            "23  2020    12        -0.892693           0.926168\n",
            "24  2021     1        -0.892693          -1.080073\n",
            "25  2021     2        -0.860496           0.753130\n",
            "26  2021     3        -0.825689          -0.794727\n",
            "27  2021     4        -0.825689          -0.942527\n",
            "28  2021     5        -0.643121          -1.151335\n",
            "29  2021     6         1.282491          -0.876137\n",
            "30  2021     7         1.311899          -0.572563\n",
            "31  2021     8         1.045988           0.774300\n",
            "32  2021     9         0.689543           1.073167\n",
            "33  2021    10        -0.698110           1.065832\n",
            "34  2021    11        -0.787672           1.151870\n",
            "35  2021    12        -0.892693           0.968154\n",
            "36  2022     1        -0.860496          -1.227494\n",
            "37  2022     2        -0.892693           0.488698\n",
            "38  2022     3        -0.825689          -0.763304\n",
            "39  2022     4        -0.698110          -1.012755\n",
            "40  2022     5        -0.643121          -1.131650\n",
            "41  2022     6         0.998646          -0.952093\n",
            "42  2022     7         1.129592          -0.684020\n",
            "43  2022     8         1.109857           0.868652\n",
            "44  2022     9         0.738087           1.010487\n",
            "45  2022    10        -0.643121           1.113275\n",
            "46  2022    11         0.313901           1.116869\n",
            "47  2022    12        -0.860496           0.958464\n",
            "48  2023     1        -0.745580          -1.028226\n",
            "49  2023     2        -0.745580           0.664002\n",
            "50  2023     3        -0.825689          -0.826181\n",
            "51  2023     4        -0.825689          -0.894149\n",
            "52  2023     5        -0.787672          -1.039325\n",
            "53  2023     6         1.045988          -0.962996\n",
            "54  2023     7         1.710484          -0.413448\n",
            "55  2023     8         1.129592           0.768967\n",
            "56  2023     9         0.780968           1.016756\n",
            "57  2023    10        -0.745580           1.112705\n",
            "58  2023    11        -0.745580           1.048145\n",
            "59  2023    12        -0.643121           1.000268\n"
          ]
        }
      ]
    },
    {
      "cell_type": "code",
      "source": [
        "print(\"Duplicate rows:\", combined_df.duplicated().sum())  # Shows count of duplicate rows\n",
        "combined_df = combined_df.drop_duplicates()  # Removes duplicates"
      ],
      "metadata": {
        "id": "xMXAOjgAsDwc",
        "colab": {
          "base_uri": "https://localhost:8080/"
        },
        "outputId": "8c546a04-c678-4402-e0e7-d8776ea52dca"
      },
      "execution_count": null,
      "outputs": [
        {
          "output_type": "stream",
          "name": "stdout",
          "text": [
            "Duplicate rows: 0\n"
          ]
        }
      ]
    },
    {
      "cell_type": "code",
      "source": [
        "print(combined_df.describe())  # Shows min, max, mean, etc."
      ],
      "metadata": {
        "id": "2fBfRcfzsGUS",
        "colab": {
          "base_uri": "https://localhost:8080/"
        },
        "outputId": "fbaf919c-476a-4162-bf54-a16e361044e9"
      },
      "execution_count": null,
      "outputs": [
        {
          "output_type": "stream",
          "name": "stdout",
          "text": [
            "       Lyme Case Count  Average Mean Temp\n",
            "count        60.000000          60.000000\n",
            "mean         -0.262202          -0.011732\n",
            "std           0.826913           0.950496\n",
            "min          -0.892693          -1.227494\n",
            "25%          -0.860496          -0.961547\n",
            "50%          -0.745580          -0.267782\n",
            "75%           0.595376           0.984356\n",
            "max           1.710484           1.186620\n"
          ]
        }
      ]
    },
    {
      "cell_type": "code",
      "source": [
        "def data_quality_report(combined_df):\n",
        "    print(\"🔍 Missing Values:\\n\", combined_df.isnull().sum(), \"\\n\")\n",
        "    print(\"📊 Data Types:\\n\", combined_df.dtypes, \"\\n\")\n",
        "    print(\"🗂 Duplicate Rows:\", combined_df.duplicated().sum(), \"\\n\")\n",
        "    print(\"📈 Summary Stats:\\n\", combined_df.describe(), \"\\n\")\n",
        "\n",
        "    for col in combined_df.select_dtypes(include=['object']).columns:\n",
        "        print(f\"🔢 Unique values in {col}:\\n\", combined_df[col].unique(), \"\\n\")\n",
        "\n",
        "# Run the function\n",
        "data_quality_report(combined_df)"
      ],
      "metadata": {
        "id": "-cx7CEMisS6g",
        "colab": {
          "base_uri": "https://localhost:8080/"
        },
        "outputId": "32328113-a16d-4e2c-e5b6-316161764bf0"
      },
      "execution_count": null,
      "outputs": [
        {
          "output_type": "stream",
          "name": "stdout",
          "text": [
            "🔍 Missing Values:\n",
            " Year                 0\n",
            "Month                0\n",
            "Lyme Case Count      0\n",
            "Average Mean Temp    0\n",
            "dtype: int64 \n",
            "\n",
            "📊 Data Types:\n",
            " Year                  object\n",
            "Month                 object\n",
            "Lyme Case Count      float64\n",
            "Average Mean Temp    float64\n",
            "dtype: object \n",
            "\n",
            "🗂 Duplicate Rows: 0 \n",
            "\n",
            "📈 Summary Stats:\n",
            "        Lyme Case Count  Average Mean Temp\n",
            "count        60.000000          60.000000\n",
            "mean         -0.262202          -0.011732\n",
            "std           0.826913           0.950496\n",
            "min          -0.892693          -1.227494\n",
            "25%          -0.860496          -0.961547\n",
            "50%          -0.745580          -0.267782\n",
            "75%           0.595376           0.984356\n",
            "max           1.710484           1.186620 \n",
            "\n",
            "🔢 Unique values in Year:\n",
            " ['2019' '2020' '2021' '2022' '2023'] \n",
            "\n",
            "🔢 Unique values in Month:\n",
            " ['1' '2' '3' '4' '5' '6' '7' '8' '9' '10' '11' '12'] \n",
            "\n"
          ]
        }
      ]
    },
    {
      "cell_type": "markdown",
      "source": [
        "# Regression Analysis"
      ],
      "metadata": {
        "id": "GdmXmeNGuY5d"
      }
    },
    {
      "cell_type": "code",
      "source": [
        "# Display first few rows\n",
        "combined_df.head()"
      ],
      "metadata": {
        "colab": {
          "base_uri": "https://localhost:8080/",
          "height": 206
        },
        "id": "Zwvk-yxqWV0j",
        "outputId": "20e6aa28-cec8-480e-b139-0ee5df07b83d"
      },
      "execution_count": null,
      "outputs": [
        {
          "output_type": "execute_result",
          "data": {
            "text/plain": [
              "   Year  Month  Lyme Case Count  Average Mean Temp\n",
              "0  2019      1         0.235055           0.353026\n",
              "1  2019      2         0.000000           0.830277\n",
              "2  2019      3         0.000000           0.648890\n",
              "3  2019      4         0.235055           0.618518\n",
              "4  2019      5         0.427124           0.491914"
            ],
            "text/html": [
              "\n",
              "  <div id=\"df-e3963ed3-18ca-4098-8e58-e7a568897ee0\" class=\"colab-df-container\">\n",
              "    <div>\n",
              "<style scoped>\n",
              "    .dataframe tbody tr th:only-of-type {\n",
              "        vertical-align: middle;\n",
              "    }\n",
              "\n",
              "    .dataframe tbody tr th {\n",
              "        vertical-align: top;\n",
              "    }\n",
              "\n",
              "    .dataframe thead th {\n",
              "        text-align: right;\n",
              "    }\n",
              "</style>\n",
              "<table border=\"1\" class=\"dataframe\">\n",
              "  <thead>\n",
              "    <tr style=\"text-align: right;\">\n",
              "      <th></th>\n",
              "      <th>Year</th>\n",
              "      <th>Month</th>\n",
              "      <th>Lyme Case Count</th>\n",
              "      <th>Average Mean Temp</th>\n",
              "    </tr>\n",
              "  </thead>\n",
              "  <tbody>\n",
              "    <tr>\n",
              "      <th>0</th>\n",
              "      <td>2019</td>\n",
              "      <td>1</td>\n",
              "      <td>0.235055</td>\n",
              "      <td>0.353026</td>\n",
              "    </tr>\n",
              "    <tr>\n",
              "      <th>1</th>\n",
              "      <td>2019</td>\n",
              "      <td>2</td>\n",
              "      <td>0.000000</td>\n",
              "      <td>0.830277</td>\n",
              "    </tr>\n",
              "    <tr>\n",
              "      <th>2</th>\n",
              "      <td>2019</td>\n",
              "      <td>3</td>\n",
              "      <td>0.000000</td>\n",
              "      <td>0.648890</td>\n",
              "    </tr>\n",
              "    <tr>\n",
              "      <th>3</th>\n",
              "      <td>2019</td>\n",
              "      <td>4</td>\n",
              "      <td>0.235055</td>\n",
              "      <td>0.618518</td>\n",
              "    </tr>\n",
              "    <tr>\n",
              "      <th>4</th>\n",
              "      <td>2019</td>\n",
              "      <td>5</td>\n",
              "      <td>0.427124</td>\n",
              "      <td>0.491914</td>\n",
              "    </tr>\n",
              "  </tbody>\n",
              "</table>\n",
              "</div>\n",
              "    <div class=\"colab-df-buttons\">\n",
              "\n",
              "  <div class=\"colab-df-container\">\n",
              "    <button class=\"colab-df-convert\" onclick=\"convertToInteractive('df-e3963ed3-18ca-4098-8e58-e7a568897ee0')\"\n",
              "            title=\"Convert this dataframe to an interactive table.\"\n",
              "            style=\"display:none;\">\n",
              "\n",
              "  <svg xmlns=\"http://www.w3.org/2000/svg\" height=\"24px\" viewBox=\"0 -960 960 960\">\n",
              "    <path d=\"M120-120v-720h720v720H120Zm60-500h600v-160H180v160Zm220 220h160v-160H400v160Zm0 220h160v-160H400v160ZM180-400h160v-160H180v160Zm440 0h160v-160H620v160ZM180-180h160v-160H180v160Zm440 0h160v-160H620v160Z\"/>\n",
              "  </svg>\n",
              "    </button>\n",
              "\n",
              "  <style>\n",
              "    .colab-df-container {\n",
              "      display:flex;\n",
              "      gap: 12px;\n",
              "    }\n",
              "\n",
              "    .colab-df-convert {\n",
              "      background-color: #E8F0FE;\n",
              "      border: none;\n",
              "      border-radius: 50%;\n",
              "      cursor: pointer;\n",
              "      display: none;\n",
              "      fill: #1967D2;\n",
              "      height: 32px;\n",
              "      padding: 0 0 0 0;\n",
              "      width: 32px;\n",
              "    }\n",
              "\n",
              "    .colab-df-convert:hover {\n",
              "      background-color: #E2EBFA;\n",
              "      box-shadow: 0px 1px 2px rgba(60, 64, 67, 0.3), 0px 1px 3px 1px rgba(60, 64, 67, 0.15);\n",
              "      fill: #174EA6;\n",
              "    }\n",
              "\n",
              "    .colab-df-buttons div {\n",
              "      margin-bottom: 4px;\n",
              "    }\n",
              "\n",
              "    [theme=dark] .colab-df-convert {\n",
              "      background-color: #3B4455;\n",
              "      fill: #D2E3FC;\n",
              "    }\n",
              "\n",
              "    [theme=dark] .colab-df-convert:hover {\n",
              "      background-color: #434B5C;\n",
              "      box-shadow: 0px 1px 3px 1px rgba(0, 0, 0, 0.15);\n",
              "      filter: drop-shadow(0px 1px 2px rgba(0, 0, 0, 0.3));\n",
              "      fill: #FFFFFF;\n",
              "    }\n",
              "  </style>\n",
              "\n",
              "    <script>\n",
              "      const buttonEl =\n",
              "        document.querySelector('#df-e3963ed3-18ca-4098-8e58-e7a568897ee0 button.colab-df-convert');\n",
              "      buttonEl.style.display =\n",
              "        google.colab.kernel.accessAllowed ? 'block' : 'none';\n",
              "\n",
              "      async function convertToInteractive(key) {\n",
              "        const element = document.querySelector('#df-e3963ed3-18ca-4098-8e58-e7a568897ee0');\n",
              "        const dataTable =\n",
              "          await google.colab.kernel.invokeFunction('convertToInteractive',\n",
              "                                                    [key], {});\n",
              "        if (!dataTable) return;\n",
              "\n",
              "        const docLinkHtml = 'Like what you see? Visit the ' +\n",
              "          '<a target=\"_blank\" href=https://colab.research.google.com/notebooks/data_table.ipynb>data table notebook</a>'\n",
              "          + ' to learn more about interactive tables.';\n",
              "        element.innerHTML = '';\n",
              "        dataTable['output_type'] = 'display_data';\n",
              "        await google.colab.output.renderOutput(dataTable, element);\n",
              "        const docLink = document.createElement('div');\n",
              "        docLink.innerHTML = docLinkHtml;\n",
              "        element.appendChild(docLink);\n",
              "      }\n",
              "    </script>\n",
              "  </div>\n",
              "\n",
              "\n",
              "    <div id=\"df-9105e2c0-6b1a-45b6-90c6-68f053e7038e\">\n",
              "      <button class=\"colab-df-quickchart\" onclick=\"quickchart('df-9105e2c0-6b1a-45b6-90c6-68f053e7038e')\"\n",
              "                title=\"Suggest charts\"\n",
              "                style=\"display:none;\">\n",
              "\n",
              "<svg xmlns=\"http://www.w3.org/2000/svg\" height=\"24px\"viewBox=\"0 0 24 24\"\n",
              "     width=\"24px\">\n",
              "    <g>\n",
              "        <path d=\"M19 3H5c-1.1 0-2 .9-2 2v14c0 1.1.9 2 2 2h14c1.1 0 2-.9 2-2V5c0-1.1-.9-2-2-2zM9 17H7v-7h2v7zm4 0h-2V7h2v10zm4 0h-2v-4h2v4z\"/>\n",
              "    </g>\n",
              "</svg>\n",
              "      </button>\n",
              "\n",
              "<style>\n",
              "  .colab-df-quickchart {\n",
              "      --bg-color: #E8F0FE;\n",
              "      --fill-color: #1967D2;\n",
              "      --hover-bg-color: #E2EBFA;\n",
              "      --hover-fill-color: #174EA6;\n",
              "      --disabled-fill-color: #AAA;\n",
              "      --disabled-bg-color: #DDD;\n",
              "  }\n",
              "\n",
              "  [theme=dark] .colab-df-quickchart {\n",
              "      --bg-color: #3B4455;\n",
              "      --fill-color: #D2E3FC;\n",
              "      --hover-bg-color: #434B5C;\n",
              "      --hover-fill-color: #FFFFFF;\n",
              "      --disabled-bg-color: #3B4455;\n",
              "      --disabled-fill-color: #666;\n",
              "  }\n",
              "\n",
              "  .colab-df-quickchart {\n",
              "    background-color: var(--bg-color);\n",
              "    border: none;\n",
              "    border-radius: 50%;\n",
              "    cursor: pointer;\n",
              "    display: none;\n",
              "    fill: var(--fill-color);\n",
              "    height: 32px;\n",
              "    padding: 0;\n",
              "    width: 32px;\n",
              "  }\n",
              "\n",
              "  .colab-df-quickchart:hover {\n",
              "    background-color: var(--hover-bg-color);\n",
              "    box-shadow: 0 1px 2px rgba(60, 64, 67, 0.3), 0 1px 3px 1px rgba(60, 64, 67, 0.15);\n",
              "    fill: var(--button-hover-fill-color);\n",
              "  }\n",
              "\n",
              "  .colab-df-quickchart-complete:disabled,\n",
              "  .colab-df-quickchart-complete:disabled:hover {\n",
              "    background-color: var(--disabled-bg-color);\n",
              "    fill: var(--disabled-fill-color);\n",
              "    box-shadow: none;\n",
              "  }\n",
              "\n",
              "  .colab-df-spinner {\n",
              "    border: 2px solid var(--fill-color);\n",
              "    border-color: transparent;\n",
              "    border-bottom-color: var(--fill-color);\n",
              "    animation:\n",
              "      spin 1s steps(1) infinite;\n",
              "  }\n",
              "\n",
              "  @keyframes spin {\n",
              "    0% {\n",
              "      border-color: transparent;\n",
              "      border-bottom-color: var(--fill-color);\n",
              "      border-left-color: var(--fill-color);\n",
              "    }\n",
              "    20% {\n",
              "      border-color: transparent;\n",
              "      border-left-color: var(--fill-color);\n",
              "      border-top-color: var(--fill-color);\n",
              "    }\n",
              "    30% {\n",
              "      border-color: transparent;\n",
              "      border-left-color: var(--fill-color);\n",
              "      border-top-color: var(--fill-color);\n",
              "      border-right-color: var(--fill-color);\n",
              "    }\n",
              "    40% {\n",
              "      border-color: transparent;\n",
              "      border-right-color: var(--fill-color);\n",
              "      border-top-color: var(--fill-color);\n",
              "    }\n",
              "    60% {\n",
              "      border-color: transparent;\n",
              "      border-right-color: var(--fill-color);\n",
              "    }\n",
              "    80% {\n",
              "      border-color: transparent;\n",
              "      border-right-color: var(--fill-color);\n",
              "      border-bottom-color: var(--fill-color);\n",
              "    }\n",
              "    90% {\n",
              "      border-color: transparent;\n",
              "      border-bottom-color: var(--fill-color);\n",
              "    }\n",
              "  }\n",
              "</style>\n",
              "\n",
              "      <script>\n",
              "        async function quickchart(key) {\n",
              "          const quickchartButtonEl =\n",
              "            document.querySelector('#' + key + ' button');\n",
              "          quickchartButtonEl.disabled = true;  // To prevent multiple clicks.\n",
              "          quickchartButtonEl.classList.add('colab-df-spinner');\n",
              "          try {\n",
              "            const charts = await google.colab.kernel.invokeFunction(\n",
              "                'suggestCharts', [key], {});\n",
              "          } catch (error) {\n",
              "            console.error('Error during call to suggestCharts:', error);\n",
              "          }\n",
              "          quickchartButtonEl.classList.remove('colab-df-spinner');\n",
              "          quickchartButtonEl.classList.add('colab-df-quickchart-complete');\n",
              "        }\n",
              "        (() => {\n",
              "          let quickchartButtonEl =\n",
              "            document.querySelector('#df-9105e2c0-6b1a-45b6-90c6-68f053e7038e button');\n",
              "          quickchartButtonEl.style.display =\n",
              "            google.colab.kernel.accessAllowed ? 'block' : 'none';\n",
              "        })();\n",
              "      </script>\n",
              "    </div>\n",
              "\n",
              "    </div>\n",
              "  </div>\n"
            ],
            "application/vnd.google.colaboratory.intrinsic+json": {
              "type": "dataframe",
              "variable_name": "combined_df",
              "summary": "{\n  \"name\": \"combined_df\",\n  \"rows\": 60,\n  \"fields\": [\n    {\n      \"column\": \"Year\",\n      \"properties\": {\n        \"dtype\": \"number\",\n        \"std\": 1,\n        \"min\": 2019,\n        \"max\": 2023,\n        \"num_unique_values\": 5,\n        \"samples\": [\n          2020,\n          2023,\n          2021\n        ],\n        \"semantic_type\": \"\",\n        \"description\": \"\"\n      }\n    },\n    {\n      \"column\": \"Month\",\n      \"properties\": {\n        \"dtype\": \"number\",\n        \"std\": 3,\n        \"min\": 1,\n        \"max\": 12,\n        \"num_unique_values\": 12,\n        \"samples\": [\n          11,\n          10,\n          1\n        ],\n        \"semantic_type\": \"\",\n        \"description\": \"\"\n      }\n    },\n    {\n      \"column\": \"Lyme Case Count\",\n      \"properties\": {\n        \"dtype\": \"number\",\n        \"std\": 0.23617545215296745,\n        \"min\": 0.0,\n        \"max\": 1.0,\n        \"num_unique_values\": 23,\n        \"samples\": [\n          0.3390081792216724,\n          0.5381419403223067,\n          0.23505514316042722\n        ],\n        \"semantic_type\": \"\",\n        \"description\": \"\"\n      }\n    },\n    {\n      \"column\": \"Average Mean Temp\",\n      \"properties\": {\n        \"dtype\": \"number\",\n        \"std\": 0.19029960292803477,\n        \"min\": 0.0,\n        \"max\": 1.0,\n        \"num_unique_values\": 60,\n        \"samples\": [\n          0.3530262560339597,\n          0.5989544011375255,\n          0.0\n        ],\n        \"semantic_type\": \"\",\n        \"description\": \"\"\n      }\n    }\n  ]\n}"
            }
          },
          "metadata": {},
          "execution_count": 24
        }
      ]
    },
    {
      "cell_type": "code",
      "source": [
        "from sklearn.model_selection import train_test_split\n",
        "from sklearn.linear_model import LinearRegression\n",
        "from sklearn.metrics import accuracy_score, classification_report\n",
        "\n",
        "# Extract columns\n",
        "X = combined_df[['Average Mean Temp']]\n",
        "y = combined_df['Lyme Case Count']\n",
        "\n",
        "# Split into training & test sets\n",
        "X_train, X_test, y_train, y_test = train_test_split(X, y, test_size=0.2, random_state=42)"
      ],
      "metadata": {
        "id": "ZrSd7diOQJ0i"
      },
      "execution_count": null,
      "outputs": []
    },
    {
      "cell_type": "code",
      "source": [
        "# Initialize logistic regression model\n",
        "lin_reg = LinearRegression()\n",
        "\n",
        "# Train the model\n",
        "lin_reg.fit(X_train, y_train)"
      ],
      "metadata": {
        "id": "_N0N_8uuQMsq",
        "colab": {
          "base_uri": "https://localhost:8080/",
          "height": 80
        },
        "outputId": "81b878dd-a893-404a-8557-70f900089a46"
      },
      "execution_count": null,
      "outputs": [
        {
          "output_type": "execute_result",
          "data": {
            "text/plain": [
              "LinearRegression()"
            ],
            "text/html": [
              "<style>#sk-container-id-1 {\n",
              "  /* Definition of color scheme common for light and dark mode */\n",
              "  --sklearn-color-text: #000;\n",
              "  --sklearn-color-text-muted: #666;\n",
              "  --sklearn-color-line: gray;\n",
              "  /* Definition of color scheme for unfitted estimators */\n",
              "  --sklearn-color-unfitted-level-0: #fff5e6;\n",
              "  --sklearn-color-unfitted-level-1: #f6e4d2;\n",
              "  --sklearn-color-unfitted-level-2: #ffe0b3;\n",
              "  --sklearn-color-unfitted-level-3: chocolate;\n",
              "  /* Definition of color scheme for fitted estimators */\n",
              "  --sklearn-color-fitted-level-0: #f0f8ff;\n",
              "  --sklearn-color-fitted-level-1: #d4ebff;\n",
              "  --sklearn-color-fitted-level-2: #b3dbfd;\n",
              "  --sklearn-color-fitted-level-3: cornflowerblue;\n",
              "\n",
              "  /* Specific color for light theme */\n",
              "  --sklearn-color-text-on-default-background: var(--sg-text-color, var(--theme-code-foreground, var(--jp-content-font-color1, black)));\n",
              "  --sklearn-color-background: var(--sg-background-color, var(--theme-background, var(--jp-layout-color0, white)));\n",
              "  --sklearn-color-border-box: var(--sg-text-color, var(--theme-code-foreground, var(--jp-content-font-color1, black)));\n",
              "  --sklearn-color-icon: #696969;\n",
              "\n",
              "  @media (prefers-color-scheme: dark) {\n",
              "    /* Redefinition of color scheme for dark theme */\n",
              "    --sklearn-color-text-on-default-background: var(--sg-text-color, var(--theme-code-foreground, var(--jp-content-font-color1, white)));\n",
              "    --sklearn-color-background: var(--sg-background-color, var(--theme-background, var(--jp-layout-color0, #111)));\n",
              "    --sklearn-color-border-box: var(--sg-text-color, var(--theme-code-foreground, var(--jp-content-font-color1, white)));\n",
              "    --sklearn-color-icon: #878787;\n",
              "  }\n",
              "}\n",
              "\n",
              "#sk-container-id-1 {\n",
              "  color: var(--sklearn-color-text);\n",
              "}\n",
              "\n",
              "#sk-container-id-1 pre {\n",
              "  padding: 0;\n",
              "}\n",
              "\n",
              "#sk-container-id-1 input.sk-hidden--visually {\n",
              "  border: 0;\n",
              "  clip: rect(1px 1px 1px 1px);\n",
              "  clip: rect(1px, 1px, 1px, 1px);\n",
              "  height: 1px;\n",
              "  margin: -1px;\n",
              "  overflow: hidden;\n",
              "  padding: 0;\n",
              "  position: absolute;\n",
              "  width: 1px;\n",
              "}\n",
              "\n",
              "#sk-container-id-1 div.sk-dashed-wrapped {\n",
              "  border: 1px dashed var(--sklearn-color-line);\n",
              "  margin: 0 0.4em 0.5em 0.4em;\n",
              "  box-sizing: border-box;\n",
              "  padding-bottom: 0.4em;\n",
              "  background-color: var(--sklearn-color-background);\n",
              "}\n",
              "\n",
              "#sk-container-id-1 div.sk-container {\n",
              "  /* jupyter's `normalize.less` sets `[hidden] { display: none; }`\n",
              "     but bootstrap.min.css set `[hidden] { display: none !important; }`\n",
              "     so we also need the `!important` here to be able to override the\n",
              "     default hidden behavior on the sphinx rendered scikit-learn.org.\n",
              "     See: https://github.com/scikit-learn/scikit-learn/issues/21755 */\n",
              "  display: inline-block !important;\n",
              "  position: relative;\n",
              "}\n",
              "\n",
              "#sk-container-id-1 div.sk-text-repr-fallback {\n",
              "  display: none;\n",
              "}\n",
              "\n",
              "div.sk-parallel-item,\n",
              "div.sk-serial,\n",
              "div.sk-item {\n",
              "  /* draw centered vertical line to link estimators */\n",
              "  background-image: linear-gradient(var(--sklearn-color-text-on-default-background), var(--sklearn-color-text-on-default-background));\n",
              "  background-size: 2px 100%;\n",
              "  background-repeat: no-repeat;\n",
              "  background-position: center center;\n",
              "}\n",
              "\n",
              "/* Parallel-specific style estimator block */\n",
              "\n",
              "#sk-container-id-1 div.sk-parallel-item::after {\n",
              "  content: \"\";\n",
              "  width: 100%;\n",
              "  border-bottom: 2px solid var(--sklearn-color-text-on-default-background);\n",
              "  flex-grow: 1;\n",
              "}\n",
              "\n",
              "#sk-container-id-1 div.sk-parallel {\n",
              "  display: flex;\n",
              "  align-items: stretch;\n",
              "  justify-content: center;\n",
              "  background-color: var(--sklearn-color-background);\n",
              "  position: relative;\n",
              "}\n",
              "\n",
              "#sk-container-id-1 div.sk-parallel-item {\n",
              "  display: flex;\n",
              "  flex-direction: column;\n",
              "}\n",
              "\n",
              "#sk-container-id-1 div.sk-parallel-item:first-child::after {\n",
              "  align-self: flex-end;\n",
              "  width: 50%;\n",
              "}\n",
              "\n",
              "#sk-container-id-1 div.sk-parallel-item:last-child::after {\n",
              "  align-self: flex-start;\n",
              "  width: 50%;\n",
              "}\n",
              "\n",
              "#sk-container-id-1 div.sk-parallel-item:only-child::after {\n",
              "  width: 0;\n",
              "}\n",
              "\n",
              "/* Serial-specific style estimator block */\n",
              "\n",
              "#sk-container-id-1 div.sk-serial {\n",
              "  display: flex;\n",
              "  flex-direction: column;\n",
              "  align-items: center;\n",
              "  background-color: var(--sklearn-color-background);\n",
              "  padding-right: 1em;\n",
              "  padding-left: 1em;\n",
              "}\n",
              "\n",
              "\n",
              "/* Toggleable style: style used for estimator/Pipeline/ColumnTransformer box that is\n",
              "clickable and can be expanded/collapsed.\n",
              "- Pipeline and ColumnTransformer use this feature and define the default style\n",
              "- Estimators will overwrite some part of the style using the `sk-estimator` class\n",
              "*/\n",
              "\n",
              "/* Pipeline and ColumnTransformer style (default) */\n",
              "\n",
              "#sk-container-id-1 div.sk-toggleable {\n",
              "  /* Default theme specific background. It is overwritten whether we have a\n",
              "  specific estimator or a Pipeline/ColumnTransformer */\n",
              "  background-color: var(--sklearn-color-background);\n",
              "}\n",
              "\n",
              "/* Toggleable label */\n",
              "#sk-container-id-1 label.sk-toggleable__label {\n",
              "  cursor: pointer;\n",
              "  display: flex;\n",
              "  width: 100%;\n",
              "  margin-bottom: 0;\n",
              "  padding: 0.5em;\n",
              "  box-sizing: border-box;\n",
              "  text-align: center;\n",
              "  align-items: start;\n",
              "  justify-content: space-between;\n",
              "  gap: 0.5em;\n",
              "}\n",
              "\n",
              "#sk-container-id-1 label.sk-toggleable__label .caption {\n",
              "  font-size: 0.6rem;\n",
              "  font-weight: lighter;\n",
              "  color: var(--sklearn-color-text-muted);\n",
              "}\n",
              "\n",
              "#sk-container-id-1 label.sk-toggleable__label-arrow:before {\n",
              "  /* Arrow on the left of the label */\n",
              "  content: \"▸\";\n",
              "  float: left;\n",
              "  margin-right: 0.25em;\n",
              "  color: var(--sklearn-color-icon);\n",
              "}\n",
              "\n",
              "#sk-container-id-1 label.sk-toggleable__label-arrow:hover:before {\n",
              "  color: var(--sklearn-color-text);\n",
              "}\n",
              "\n",
              "/* Toggleable content - dropdown */\n",
              "\n",
              "#sk-container-id-1 div.sk-toggleable__content {\n",
              "  max-height: 0;\n",
              "  max-width: 0;\n",
              "  overflow: hidden;\n",
              "  text-align: left;\n",
              "  /* unfitted */\n",
              "  background-color: var(--sklearn-color-unfitted-level-0);\n",
              "}\n",
              "\n",
              "#sk-container-id-1 div.sk-toggleable__content.fitted {\n",
              "  /* fitted */\n",
              "  background-color: var(--sklearn-color-fitted-level-0);\n",
              "}\n",
              "\n",
              "#sk-container-id-1 div.sk-toggleable__content pre {\n",
              "  margin: 0.2em;\n",
              "  border-radius: 0.25em;\n",
              "  color: var(--sklearn-color-text);\n",
              "  /* unfitted */\n",
              "  background-color: var(--sklearn-color-unfitted-level-0);\n",
              "}\n",
              "\n",
              "#sk-container-id-1 div.sk-toggleable__content.fitted pre {\n",
              "  /* unfitted */\n",
              "  background-color: var(--sklearn-color-fitted-level-0);\n",
              "}\n",
              "\n",
              "#sk-container-id-1 input.sk-toggleable__control:checked~div.sk-toggleable__content {\n",
              "  /* Expand drop-down */\n",
              "  max-height: 200px;\n",
              "  max-width: 100%;\n",
              "  overflow: auto;\n",
              "}\n",
              "\n",
              "#sk-container-id-1 input.sk-toggleable__control:checked~label.sk-toggleable__label-arrow:before {\n",
              "  content: \"▾\";\n",
              "}\n",
              "\n",
              "/* Pipeline/ColumnTransformer-specific style */\n",
              "\n",
              "#sk-container-id-1 div.sk-label input.sk-toggleable__control:checked~label.sk-toggleable__label {\n",
              "  color: var(--sklearn-color-text);\n",
              "  background-color: var(--sklearn-color-unfitted-level-2);\n",
              "}\n",
              "\n",
              "#sk-container-id-1 div.sk-label.fitted input.sk-toggleable__control:checked~label.sk-toggleable__label {\n",
              "  background-color: var(--sklearn-color-fitted-level-2);\n",
              "}\n",
              "\n",
              "/* Estimator-specific style */\n",
              "\n",
              "/* Colorize estimator box */\n",
              "#sk-container-id-1 div.sk-estimator input.sk-toggleable__control:checked~label.sk-toggleable__label {\n",
              "  /* unfitted */\n",
              "  background-color: var(--sklearn-color-unfitted-level-2);\n",
              "}\n",
              "\n",
              "#sk-container-id-1 div.sk-estimator.fitted input.sk-toggleable__control:checked~label.sk-toggleable__label {\n",
              "  /* fitted */\n",
              "  background-color: var(--sklearn-color-fitted-level-2);\n",
              "}\n",
              "\n",
              "#sk-container-id-1 div.sk-label label.sk-toggleable__label,\n",
              "#sk-container-id-1 div.sk-label label {\n",
              "  /* The background is the default theme color */\n",
              "  color: var(--sklearn-color-text-on-default-background);\n",
              "}\n",
              "\n",
              "/* On hover, darken the color of the background */\n",
              "#sk-container-id-1 div.sk-label:hover label.sk-toggleable__label {\n",
              "  color: var(--sklearn-color-text);\n",
              "  background-color: var(--sklearn-color-unfitted-level-2);\n",
              "}\n",
              "\n",
              "/* Label box, darken color on hover, fitted */\n",
              "#sk-container-id-1 div.sk-label.fitted:hover label.sk-toggleable__label.fitted {\n",
              "  color: var(--sklearn-color-text);\n",
              "  background-color: var(--sklearn-color-fitted-level-2);\n",
              "}\n",
              "\n",
              "/* Estimator label */\n",
              "\n",
              "#sk-container-id-1 div.sk-label label {\n",
              "  font-family: monospace;\n",
              "  font-weight: bold;\n",
              "  display: inline-block;\n",
              "  line-height: 1.2em;\n",
              "}\n",
              "\n",
              "#sk-container-id-1 div.sk-label-container {\n",
              "  text-align: center;\n",
              "}\n",
              "\n",
              "/* Estimator-specific */\n",
              "#sk-container-id-1 div.sk-estimator {\n",
              "  font-family: monospace;\n",
              "  border: 1px dotted var(--sklearn-color-border-box);\n",
              "  border-radius: 0.25em;\n",
              "  box-sizing: border-box;\n",
              "  margin-bottom: 0.5em;\n",
              "  /* unfitted */\n",
              "  background-color: var(--sklearn-color-unfitted-level-0);\n",
              "}\n",
              "\n",
              "#sk-container-id-1 div.sk-estimator.fitted {\n",
              "  /* fitted */\n",
              "  background-color: var(--sklearn-color-fitted-level-0);\n",
              "}\n",
              "\n",
              "/* on hover */\n",
              "#sk-container-id-1 div.sk-estimator:hover {\n",
              "  /* unfitted */\n",
              "  background-color: var(--sklearn-color-unfitted-level-2);\n",
              "}\n",
              "\n",
              "#sk-container-id-1 div.sk-estimator.fitted:hover {\n",
              "  /* fitted */\n",
              "  background-color: var(--sklearn-color-fitted-level-2);\n",
              "}\n",
              "\n",
              "/* Specification for estimator info (e.g. \"i\" and \"?\") */\n",
              "\n",
              "/* Common style for \"i\" and \"?\" */\n",
              "\n",
              ".sk-estimator-doc-link,\n",
              "a:link.sk-estimator-doc-link,\n",
              "a:visited.sk-estimator-doc-link {\n",
              "  float: right;\n",
              "  font-size: smaller;\n",
              "  line-height: 1em;\n",
              "  font-family: monospace;\n",
              "  background-color: var(--sklearn-color-background);\n",
              "  border-radius: 1em;\n",
              "  height: 1em;\n",
              "  width: 1em;\n",
              "  text-decoration: none !important;\n",
              "  margin-left: 0.5em;\n",
              "  text-align: center;\n",
              "  /* unfitted */\n",
              "  border: var(--sklearn-color-unfitted-level-1) 1pt solid;\n",
              "  color: var(--sklearn-color-unfitted-level-1);\n",
              "}\n",
              "\n",
              ".sk-estimator-doc-link.fitted,\n",
              "a:link.sk-estimator-doc-link.fitted,\n",
              "a:visited.sk-estimator-doc-link.fitted {\n",
              "  /* fitted */\n",
              "  border: var(--sklearn-color-fitted-level-1) 1pt solid;\n",
              "  color: var(--sklearn-color-fitted-level-1);\n",
              "}\n",
              "\n",
              "/* On hover */\n",
              "div.sk-estimator:hover .sk-estimator-doc-link:hover,\n",
              ".sk-estimator-doc-link:hover,\n",
              "div.sk-label-container:hover .sk-estimator-doc-link:hover,\n",
              ".sk-estimator-doc-link:hover {\n",
              "  /* unfitted */\n",
              "  background-color: var(--sklearn-color-unfitted-level-3);\n",
              "  color: var(--sklearn-color-background);\n",
              "  text-decoration: none;\n",
              "}\n",
              "\n",
              "div.sk-estimator.fitted:hover .sk-estimator-doc-link.fitted:hover,\n",
              ".sk-estimator-doc-link.fitted:hover,\n",
              "div.sk-label-container:hover .sk-estimator-doc-link.fitted:hover,\n",
              ".sk-estimator-doc-link.fitted:hover {\n",
              "  /* fitted */\n",
              "  background-color: var(--sklearn-color-fitted-level-3);\n",
              "  color: var(--sklearn-color-background);\n",
              "  text-decoration: none;\n",
              "}\n",
              "\n",
              "/* Span, style for the box shown on hovering the info icon */\n",
              ".sk-estimator-doc-link span {\n",
              "  display: none;\n",
              "  z-index: 9999;\n",
              "  position: relative;\n",
              "  font-weight: normal;\n",
              "  right: .2ex;\n",
              "  padding: .5ex;\n",
              "  margin: .5ex;\n",
              "  width: min-content;\n",
              "  min-width: 20ex;\n",
              "  max-width: 50ex;\n",
              "  color: var(--sklearn-color-text);\n",
              "  box-shadow: 2pt 2pt 4pt #999;\n",
              "  /* unfitted */\n",
              "  background: var(--sklearn-color-unfitted-level-0);\n",
              "  border: .5pt solid var(--sklearn-color-unfitted-level-3);\n",
              "}\n",
              "\n",
              ".sk-estimator-doc-link.fitted span {\n",
              "  /* fitted */\n",
              "  background: var(--sklearn-color-fitted-level-0);\n",
              "  border: var(--sklearn-color-fitted-level-3);\n",
              "}\n",
              "\n",
              ".sk-estimator-doc-link:hover span {\n",
              "  display: block;\n",
              "}\n",
              "\n",
              "/* \"?\"-specific style due to the `<a>` HTML tag */\n",
              "\n",
              "#sk-container-id-1 a.estimator_doc_link {\n",
              "  float: right;\n",
              "  font-size: 1rem;\n",
              "  line-height: 1em;\n",
              "  font-family: monospace;\n",
              "  background-color: var(--sklearn-color-background);\n",
              "  border-radius: 1rem;\n",
              "  height: 1rem;\n",
              "  width: 1rem;\n",
              "  text-decoration: none;\n",
              "  /* unfitted */\n",
              "  color: var(--sklearn-color-unfitted-level-1);\n",
              "  border: var(--sklearn-color-unfitted-level-1) 1pt solid;\n",
              "}\n",
              "\n",
              "#sk-container-id-1 a.estimator_doc_link.fitted {\n",
              "  /* fitted */\n",
              "  border: var(--sklearn-color-fitted-level-1) 1pt solid;\n",
              "  color: var(--sklearn-color-fitted-level-1);\n",
              "}\n",
              "\n",
              "/* On hover */\n",
              "#sk-container-id-1 a.estimator_doc_link:hover {\n",
              "  /* unfitted */\n",
              "  background-color: var(--sklearn-color-unfitted-level-3);\n",
              "  color: var(--sklearn-color-background);\n",
              "  text-decoration: none;\n",
              "}\n",
              "\n",
              "#sk-container-id-1 a.estimator_doc_link.fitted:hover {\n",
              "  /* fitted */\n",
              "  background-color: var(--sklearn-color-fitted-level-3);\n",
              "}\n",
              "</style><div id=\"sk-container-id-1\" class=\"sk-top-container\"><div class=\"sk-text-repr-fallback\"><pre>LinearRegression()</pre><b>In a Jupyter environment, please rerun this cell to show the HTML representation or trust the notebook. <br />On GitHub, the HTML representation is unable to render, please try loading this page with nbviewer.org.</b></div><div class=\"sk-container\" hidden><div class=\"sk-item\"><div class=\"sk-estimator fitted sk-toggleable\"><input class=\"sk-toggleable__control sk-hidden--visually\" id=\"sk-estimator-id-1\" type=\"checkbox\" checked><label for=\"sk-estimator-id-1\" class=\"sk-toggleable__label fitted sk-toggleable__label-arrow\"><div><div>LinearRegression</div></div><div><a class=\"sk-estimator-doc-link fitted\" rel=\"noreferrer\" target=\"_blank\" href=\"https://scikit-learn.org/1.6/modules/generated/sklearn.linear_model.LinearRegression.html\">?<span>Documentation for LinearRegression</span></a><span class=\"sk-estimator-doc-link fitted\">i<span>Fitted</span></span></div></label><div class=\"sk-toggleable__content fitted\"><pre>LinearRegression()</pre></div> </div></div></div></div>"
            ]
          },
          "metadata": {},
          "execution_count": 36
        }
      ]
    },
    {
      "cell_type": "code",
      "source": [
        "from sklearn.metrics import mean_squared_error, r2_score\n",
        "\n",
        "# Predict\n",
        "y_pred = lin_reg.predict(X_test)\n",
        "\n",
        "# Calculate Mean Squared Error (MSE)\n",
        "mse = mean_squared_error(y_test, y_pred)\n",
        "print(\"Mean Squared Error:\", mse)\n",
        "\n",
        "# Calculate R-squared (R2)\n",
        "r2 = r2_score(y_test, y_pred)\n",
        "print(\"R-squared:\", r2)"
      ],
      "metadata": {
        "id": "3FE8Xu4zQRCZ",
        "colab": {
          "base_uri": "https://localhost:8080/"
        },
        "outputId": "0c5a162a-2b93-4b13-da5c-b6702b484f16"
      },
      "execution_count": null,
      "outputs": [
        {
          "output_type": "stream",
          "name": "stdout",
          "text": [
            "Mean Squared Error: 0.05143552397022574\n",
            "R-squared: 0.052976285852959326\n"
          ]
        }
      ]
    },
    {
      "cell_type": "code",
      "source": [
        "import matplotlib.pyplot as plt\n",
        "import seaborn as sns\n",
        "\n",
        "# Scatterplot of actual values\n",
        "plt.scatter(X_test, y_test, color='blue', label=\"Actual\")\n",
        "\n",
        "# Plot logistic regression curve\n",
        "x_values = np.linspace(0, 1, 100).reshape(-1, 1)\n",
        "y_values = log_reg.predict_proba(x_values)[:,1]\n",
        "\n",
        "plt.plot(x_values, y_values, color='red', label=\"Predicted Probability\")\n",
        "plt.xlabel(\"Lyme Disease Cases\")\n",
        "plt.ylabel(\"Mean Temperature\")\n",
        "plt.title(\"Logistic Regression: Predicting Lyme Disease Cases from Mean Temperature\")\n",
        "plt.legend()\n",
        "plt.show()"
      ],
      "metadata": {
        "id": "FyEinSUbQW02",
        "colab": {
          "base_uri": "https://localhost:8080/",
          "height": 507
        },
        "outputId": "69a1fec6-ae81-4158-f681-6adff97c62f7"
      },
      "execution_count": null,
      "outputs": [
        {
          "output_type": "stream",
          "name": "stderr",
          "text": [
            "/usr/local/lib/python3.11/dist-packages/sklearn/utils/validation.py:2739: UserWarning: X does not have valid feature names, but LogisticRegression was fitted with feature names\n",
            "  warnings.warn(\n"
          ]
        },
        {
          "output_type": "display_data",
          "data": {
            "text/plain": [
              "<Figure size 640x480 with 1 Axes>"
            ],
            "image/png": "[encoded data removed]"
          },
          "metadata": {}
        }
      ]
    },
    {
      "cell_type": "markdown",
      "source": [
        "# Performing Exploratory Data Analysis (EDA)"
      ],
      "metadata": {
        "id": "AyqZJOnlvgt0"
      }
    },
    {
      "cell_type": "code",
      "source": [
        "import seaborn as sns\n",
        "import matplotlib.pyplot as plt\n",
        "\n",
        "# Histogram to visualize distribution of case counts on original dataset\n",
        "plt.figure(figsize=(8,5))\n",
        "sns.histplot(lyme_df['Total Cases'], bins=20, kde=True)\n",
        "plt.title('Distribution of Lyme Disease Cases')\n",
        "plt.xlabel('Number of Cases')\n",
        "plt.ylabel('Frequency')\n",
        "plt.show()"
      ],
      "metadata": {
        "id": "yzLst-LXvlFi",
        "colab": {
          "base_uri": "https://localhost:8080/",
          "height": 487
        },
        "outputId": "9aa2316f-fc34-494e-9a4e-6466792c03d5"
      },
      "execution_count": null,
      "outputs": [
        {
          "output_type": "display_data",
          "data": {
            "text/plain": [
              "<Figure size 800x500 with 1 Axes>"
            ],
            "image/png": "[encoded data removed]"
          },
          "metadata": {}
        }
      ]
    },
    {
      "cell_type": "code",
      "source": [
        "# Create a boxplot to detect outliers\n",
        "plt.figure(figsize=(8, 5))\n",
        "sns.boxplot(y=lyme_df[\"Total Cases\"], color=\"red\")\n",
        "plt.title(\"Boxplot of Lyme Cases (Outlier Detection)\")\n",
        "plt.ylabel(\"Lyme Cases\")\n",
        "plt.show()"
      ],
      "metadata": {
        "colab": {
          "base_uri": "https://localhost:8080/",
          "height": 449
        },
        "id": "Ayoci1HZlkR5",
        "outputId": "f31e84c7-8b32-4100-c437-1f6dc567a17e"
      },
      "execution_count": null,
      "outputs": [
        {
          "output_type": "display_data",
          "data": {
            "text/plain": [
              "<Figure size 800x500 with 1 Axes>"
            ],
            "image/png": "[encoded data removed]"
          },
          "metadata": {}
        }
      ]
    },
    {
      "cell_type": "code",
      "source": [
        "# Check summary statistics of Lyme cases\n",
        "bmi_summary = lyme_df[\"Total Cases\"].describe()\n",
        "bmi_summary"
      ],
      "metadata": {
        "colab": {
          "base_uri": "https://localhost:8080/",
          "height": 335
        },
        "id": "vxi78QXZlz6c",
        "outputId": "433717c4-ea1a-4031-d1fa-050281a7e880"
      },
      "execution_count": null,
      "outputs": [
        {
          "output_type": "execute_result",
          "data": {
            "text/plain": [
              "count    60.000000\n",
              "mean      9.583333\n",
              "std      13.585001\n",
              "min       0.000000\n",
              "25%       1.000000\n",
              "50%       4.000000\n",
              "75%      12.500000\n",
              "max      77.000000\n",
              "Name: Total Cases, dtype: float64"
            ],
            "text/html": [
              "<div>\n",
              "<style scoped>\n",
              "    .dataframe tbody tr th:only-of-type {\n",
              "        vertical-align: middle;\n",
              "    }\n",
              "\n",
              "    .dataframe tbody tr th {\n",
              "        vertical-align: top;\n",
              "    }\n",
              "\n",
              "    .dataframe thead th {\n",
              "        text-align: right;\n",
              "    }\n",
              "</style>\n",
              "<table border=\"1\" class=\"dataframe\">\n",
              "  <thead>\n",
              "    <tr style=\"text-align: right;\">\n",
              "      <th></th>\n",
              "      <th>Total Cases</th>\n",
              "    </tr>\n",
              "  </thead>\n",
              "  <tbody>\n",
              "    <tr>\n",
              "      <th>count</th>\n",
              "      <td>60.000000</td>\n",
              "    </tr>\n",
              "    <tr>\n",
              "      <th>mean</th>\n",
              "      <td>9.583333</td>\n",
              "    </tr>\n",
              "    <tr>\n",
              "      <th>std</th>\n",
              "      <td>13.585001</td>\n",
              "    </tr>\n",
              "    <tr>\n",
              "      <th>min</th>\n",
              "      <td>0.000000</td>\n",
              "    </tr>\n",
              "    <tr>\n",
              "      <th>25%</th>\n",
              "      <td>1.000000</td>\n",
              "    </tr>\n",
              "    <tr>\n",
              "      <th>50%</th>\n",
              "      <td>4.000000</td>\n",
              "    </tr>\n",
              "    <tr>\n",
              "      <th>75%</th>\n",
              "      <td>12.500000</td>\n",
              "    </tr>\n",
              "    <tr>\n",
              "      <th>max</th>\n",
              "      <td>77.000000</td>\n",
              "    </tr>\n",
              "  </tbody>\n",
              "</table>\n",
              "</div><br><label><b>dtype:</b> float64</label>"
            ]
          },
          "metadata": {},
          "execution_count": 46
        }
      ]
    },
    {
      "cell_type": "code",
      "source": [
        "# Mean (Average)\n",
        "mean_height = lyme_df[\"Total Cases\"].mean()\n",
        "print(f\"Mean Cases: {mean_height:.2f}\")\n",
        "\n",
        "# Median (Middle value)\n",
        "median_height = lyme_df[\"Total Cases\"].median()\n",
        "print(f\"Median Cases: {median_height:.2f}\")\n",
        "\n",
        "# Mode (Most common value)\n",
        "mode_height = lyme_df[\"Total Cases\"].mode()[0]\n",
        "print(f\"Mode Cases: {mode_height}\")"
      ],
      "metadata": {
        "colab": {
          "base_uri": "https://localhost:8080/"
        },
        "id": "Nk6PIDB2oFQ1",
        "outputId": "8648d413-dc62-4ca8-e048-d0fe59b7cf18"
      },
      "execution_count": null,
      "outputs": [
        {
          "output_type": "stream",
          "name": "stdout",
          "text": [
            "Mean Cases: 9.58\n",
            "Median Cases: 4.00\n",
            "Mode Cases: 0\n"
          ]
        }
      ]
    },
    {
      "cell_type": "code",
      "source": [
        "# Check for missing values\n",
        "missing_values = lyme_df.isnull().sum()\n",
        "print(\"Missing Values:\\n\", missing_values)"
      ],
      "metadata": {
        "colab": {
          "base_uri": "https://localhost:8080/"
        },
        "id": "Ru1RJuspoIt8",
        "outputId": "f283e9cd-0266-465d-946d-65d7f47abf8f"
      },
      "execution_count": null,
      "outputs": [
        {
          "output_type": "stream",
          "name": "stdout",
          "text": [
            "Missing Values:\n",
            " Year           0\n",
            "Month          0\n",
            "Total Cases    0\n",
            "dtype: int64\n"
          ]
        }
      ]
    },
    {
      "cell_type": "code",
      "source": [
        "# Scatter plot: Height vs. Weight\n",
        "plt.figure(figsize=(8,5))\n",
        "sns.scatterplot(x=combined_df['Lyme Case Count'], y=combined_df['Average Mean Temp'])\n",
        "plt.title(\"Lyme Case Count vs. Average Mean Temp in Toronto\")\n",
        "plt.xlabel(\"Lyme Case Count\")\n",
        "plt.ylabel(\"Average Mean Temp\")\n",
        "plt.show()"
      ],
      "metadata": {
        "colab": {
          "base_uri": "https://localhost:8080/",
          "height": 487
        },
        "id": "FE7OmV03oKwG",
        "outputId": "3decdd6c-38bc-4bb2-adc8-0c04edff60cd"
      },
      "execution_count": null,
      "outputs": [
        {
          "output_type": "display_data",
          "data": {
            "text/plain": [
              "<Figure size 800x500 with 1 Axes>"
            ],
            "image/png": "[encoded data removed]"
          },
          "metadata": {}
        }
      ]
    },
    {
      "cell_type": "code",
      "source": [
        "# Correlation heatmap - compute correlation matrix\n",
        "correlation_matrix = combined_df[['Lyme Case Count', 'Average Mean Temp']].corr()\n",
        "print(correlation_matrix)"
      ],
      "metadata": {
        "colab": {
          "base_uri": "https://localhost:8080/"
        },
        "id": "7t5KZSqCoO4e",
        "outputId": "5da24f74-a87a-4a26-af1d-fc2fecca0ad8"
      },
      "execution_count": null,
      "outputs": [
        {
          "output_type": "stream",
          "name": "stdout",
          "text": [
            "                   Lyme Case Count  Average Mean Temp\n",
            "Lyme Case Count           1.000000           0.133522\n",
            "Average Mean Temp         0.133522           1.000000\n"
          ]
        }
      ]
    },
    {
      "cell_type": "code",
      "source": [
        "plt.figure(figsize=(10,6))\n",
        "sns.heatmap(correlation_matrix.corr(), annot=True, cmap='coolwarm', fmt=\".2f\")\n",
        "plt.title('Correlation Heatmap: Lyme Cases and Temperature')\n",
        "plt.show()"
      ],
      "metadata": {
        "colab": {
          "base_uri": "https://localhost:8080/",
          "height": 545
        },
        "id": "VkQkaDM0qfna",
        "outputId": "ff31b49a-5f5d-4d0a-aa61-f2d56097d49d"
      },
      "execution_count": null,
      "outputs": [
        {
          "output_type": "display_data",
          "data": {
            "text/plain": [
              "<Figure size 1000x600 with 2 Axes>"
            ],
            "image/png": "[encoded data removed]"
          },
          "metadata": {}
        }
      ]
    },
    {
      "cell_type": "code",
      "source": [
        "# No categorical data available"
      ],
      "metadata": {
        "id": "rBgDj8rfoSEY"
      },
      "execution_count": null,
      "outputs": []
    },
    {
      "cell_type": "markdown",
      "source": [
        "# Re-Evaluating through Time-Series Correlation"
      ],
      "metadata": {
        "id": "00i1SreW04Fp"
      }
    },
    {
      "cell_type": "code",
      "source": [
        "import scipy.stats as stats\n",
        "from scipy.stats import pearsonr, spearmanr\n",
        "\n",
        "correlation = combined_df['Lyme Case Count'].corr(combined_df['Average Mean Temp'])\n",
        "print(f\"Pearson correlation: {correlation}\")\n",
        "\n",
        "spearman_corr, _ = stats.spearmanr(combined_df['Lyme Case Count'], combined_df['Average Mean Temp'])\n",
        "print(f\"Spearman correlation: {spearman_corr}\")"
      ],
      "metadata": {
        "colab": {
          "base_uri": "https://localhost:8080/"
        },
        "id": "Ga64u--U09gH",
        "outputId": "2e65b3b5-4ac0-4ca8-bf3f-71adfa6954e7"
      },
      "execution_count": null,
      "outputs": [
        {
          "output_type": "stream",
          "name": "stdout",
          "text": [
            "Pearson correlation: 0.13352240062295107\n",
            "Spearman correlation: 0.12909934981726448\n"
          ]
        }
      ]
    },
    {
      "cell_type": "code",
      "source": [
        "def cross_correlation(series1, series2, lag):\n",
        "    shifted_series = series2.shift(lag)\n",
        "    return series1.corr(shifted_series)\n",
        "\n",
        "max_lag = 10  # Define the maximum lag\n",
        "for lag in range(-max_lag, max_lag + 1):\n",
        "    cc = cross_correlation(combined_df['Lyme Case Count'], combined_df['Average Mean Temp'], lag)\n",
        "    print(f\"Cross correlation at lag {lag}: {cc}\")"
      ],
      "metadata": {
        "colab": {
          "base_uri": "https://localhost:8080/"
        },
        "id": "3OnUN1i21Ar6",
        "outputId": "5a2db2a2-8e85-43f3-c498-7154d61492dd"
      },
      "execution_count": null,
      "outputs": [
        {
          "output_type": "stream",
          "name": "stdout",
          "text": [
            "Cross correlation at lag -10: -0.4338328535952673\n",
            "Cross correlation at lag -9: -0.4995607287694119\n",
            "Cross correlation at lag -8: -0.49324390213680663\n",
            "Cross correlation at lag -7: -0.4806035824835334\n",
            "Cross correlation at lag -6: -0.2109958614803112\n",
            "Cross correlation at lag -5: 0.17870856834245671\n",
            "Cross correlation at lag -4: 0.4670235904971131\n",
            "Cross correlation at lag -3: 0.6292634242558262\n",
            "Cross correlation at lag -2: 0.5308030986851218\n",
            "Cross correlation at lag -1: 0.5052290049961434\n",
            "Cross correlation at lag 0: 0.13352240062295107\n",
            "Cross correlation at lag 1: -0.14066206519735497\n",
            "Cross correlation at lag 2: -0.3889378187496003\n",
            "Cross correlation at lag 3: -0.4770120481712938\n",
            "Cross correlation at lag 4: -0.4083663461825018\n",
            "Cross correlation at lag 5: -0.3669139352878884\n",
            "Cross correlation at lag 6: -0.21971494991739857\n",
            "Cross correlation at lag 7: 0.11419139718026737\n",
            "Cross correlation at lag 8: 0.3753722478523702\n",
            "Cross correlation at lag 9: 0.5672831354123541\n",
            "Cross correlation at lag 10: 0.4417251759792982\n"
          ]
        }
      ]
    },
    {
      "cell_type": "code",
      "source": [
        "import matplotlib.pyplot as plt\n",
        "\n",
        "plt.figure(figsize=(10, 6))\n",
        "plt.plot(combined_df['Lyme Case Count'], label='Series 1')\n",
        "plt.plot(combined_df['Average Mean Temp'], label='Series 2')\n",
        "plt.title('Time Series Data')\n",
        "plt.legend()\n",
        "plt.show()"
      ],
      "metadata": {
        "colab": {
          "base_uri": "https://localhost:8080/",
          "height": 545
        },
        "id": "5wXPXS9m1DcF",
        "outputId": "3663d2d2-19ca-4810-a16d-fe3a0c219e33"
      },
      "execution_count": null,
      "outputs": [
        {
          "output_type": "display_data",
          "data": {
            "text/plain": [
              "<Figure size 1000x600 with 1 Axes>"
            ],
            "image/png": "[encoded data removed]"
          },
          "metadata": {}
        }
      ]
    },
    {
      "cell_type": "markdown",
      "source": [
        "# Loading Precipitation Data"
      ],
      "metadata": {
        "id": "CXcxdQkEBaCH"
      }
    },
    {
      "cell_type": "code",
      "source": [
        "#Upload the CSV file for Toronto Climate Data and read it into a DataFrame\n",
        "from google.colab import files\n",
        "uploaded = files.upload()\n",
        "climate_df = pd.read_csv('Toronto_Climate_Data.csv')"
      ],
      "metadata": {
        "colab": {
          "base_uri": "https://localhost:8080/",
          "height": 73
        },
        "id": "rWGX2jukCqA8",
        "outputId": "d5db8937-248c-4c6d-e45e-5a06dac65916"
      },
      "execution_count": null,
      "outputs": [
        {
          "output_type": "display_data",
          "data": {
            "text/plain": [
              "<IPython.core.display.HTML object>"
            ],
            "text/html": [
              "\n",
              "     <input type=\"file\" id=\"files-18a574b1-0380-4fd7-be6b-3b0770af47f3\" name=\"files[]\" multiple disabled\n",
              "        style=\"border:none\" />\n",
              "     <output id=\"result-18a574b1-0380-4fd7-be6b-3b0770af47f3\">\n",
              "      Upload widget is only available when the cell has been executed in the\n",
              "      current browser session. Please rerun this cell to enable.\n",
              "      </output>\n",
              "      <script>// Copyright 2017 Google LLC\n",
              "//\n",
              "// Licensed under the Apache License, Version 2.0 (the \"License\");\n",
              "// you may not use this file except in compliance with the License.\n",
              "// You may obtain a copy of the License at\n",
              "//\n",
              "//      http://www.apache.org/licenses/LICENSE-2.0\n",
              "//\n",
              "// Unless required by applicable law or agreed to in writing, software\n",
              "// distributed under the License is distributed on an \"AS IS\" BASIS,\n",
              "// WITHOUT WARRANTIES OR CONDITIONS OF ANY KIND, either express or implied.\n",
              "// See the License for the specific language governing permissions and\n",
              "// limitations under the License.\n",
              "\n",
              "/**\n",
              " * @fileoverview Helpers for google.colab Python module.\n",
              " */\n",
              "(function(scope) {\n",
              "function span(text, styleAttributes = {}) {\n",
              "  const element = document.createElement('span');\n",
              "  element.textContent = text;\n",
              "  for (const key of Object.keys(styleAttributes)) {\n",
              "    element.style[key] = styleAttributes[key];\n",
              "  }\n",
              "  return element;\n",
              "}\n",
              "\n",
              "// Max number of bytes which will be uploaded at a time.\n",
              "const MAX_PAYLOAD_SIZE = 100 * 1024;\n",
              "\n",
              "function _uploadFiles(inputId, outputId) {\n",
              "  const steps = uploadFilesStep(inputId, outputId);\n",
              "  const outputElement = document.getElementById(outputId);\n",
              "  // Cache steps on the outputElement to make it available for the next call\n",
              "  // to uploadFilesContinue from Python.\n",
              "  outputElement.steps = steps;\n",
              "\n",
              "  return _uploadFilesContinue(outputId);\n",
              "}\n",
              "\n",
              "// This is roughly an async generator (not supported in the browser yet),\n",
              "// where there are multiple asynchronous steps and the Python side is going\n",
              "// to poll for completion of each step.\n",
              "// This uses a Promise to block the python side on completion of each step,\n",
              "// then passes the result of the previous step as the input to the next step.\n",
              "function _uploadFilesContinue(outputId) {\n",
              "  const outputElement = document.getElementById(outputId);\n",
              "  const steps = outputElement.steps;\n",
              "\n",
              "  const next = steps.next(outputElement.lastPromiseValue);\n",
              "  return Promise.resolve(next.value.promise).then((value) => {\n",
              "    // Cache the last promise value to make it available to the next\n",
              "    // step of the generator.\n",
              "    outputElement.lastPromiseValue = value;\n",
              "    return next.value.response;\n",
              "  });\n",
              "}\n",
              "\n",
              "/**\n",
              " * Generator function which is called between each async step of the upload\n",
              " * process.\n",
              " * @param {string} inputId Element ID of the input file picker element.\n",
              " * @param {string} outputId Element ID of the output display.\n",
              " * @return {!Iterable<!Object>} Iterable of next steps.\n",
              " */\n",
              "function* uploadFilesStep(inputId, outputId) {\n",
              "  const inputElement = document.getElementById(inputId);\n",
              "  inputElement.disabled = false;\n",
              "\n",
              "  const outputElement = document.getElementById(outputId);\n",
              "  outputElement.innerHTML = '';\n",
              "\n",
              "  const pickedPromise = new Promise((resolve) => {\n",
              "    inputElement.addEventListener('change', (e) => {\n",
              "      resolve(e.target.files);\n",
              "    });\n",
              "  });\n",
              "\n",
              "  const cancel = document.createElement('button');\n",
              "  inputElement.parentElement.appendChild(cancel);\n",
              "  cancel.textContent = 'Cancel upload';\n",
              "  const cancelPromise = new Promise((resolve) => {\n",
              "    cancel.onclick = () => {\n",
              "      resolve(null);\n",
              "    };\n",
              "  });\n",
              "\n",
              "  // Wait for the user to pick the files.\n",
              "  const files = yield {\n",
              "    promise: Promise.race([pickedPromise, cancelPromise]),\n",
              "    response: {\n",
              "      action: 'starting',\n",
              "    }\n",
              "  };\n",
              "\n",
              "  cancel.remove();\n",
              "\n",
              "  // Disable the input element since further picks are not allowed.\n",
              "  inputElement.disabled = true;\n",
              "\n",
              "  if (!files) {\n",
              "    return {\n",
              "      response: {\n",
              "        action: 'complete',\n",
              "      }\n",
              "    };\n",
              "  }\n",
              "\n",
              "  for (const file of files) {\n",
              "    const li = document.createElement('li');\n",
              "    li.append(span(file.name, {fontWeight: 'bold'}));\n",
              "    li.append(span(\n",
              "        `(${file.type || 'n/a'}) - ${file.size} bytes, ` +\n",
              "        `last modified: ${\n",
              "            file.lastModifiedDate ? file.lastModifiedDate.toLocaleDateString() :\n",
              "                                    'n/a'} - `));\n",
              "    const percent = span('0% done');\n",
              "    li.appendChild(percent);\n",
              "\n",
              "    outputElement.appendChild(li);\n",
              "\n",
              "    const fileDataPromise = new Promise((resolve) => {\n",
              "      const reader = new FileReader();\n",
              "      reader.onload = (e) => {\n",
              "        resolve(e.target.result);\n",
              "      };\n",
              "      reader.readAsArrayBuffer(file);\n",
              "    });\n",
              "    // Wait for the data to be ready.\n",
              "    let fileData = yield {\n",
              "      promise: fileDataPromise,\n",
              "      response: {\n",
              "        action: 'continue',\n",
              "      }\n",
              "    };\n",
              "\n",
              "    // Use a chunked sending to avoid message size limits. See b/62115660.\n",
              "    let position = 0;\n",
              "    do {\n",
              "      const length = Math.min(fileData.byteLength - position, MAX_PAYLOAD_SIZE);\n",
              "      const chunk = new Uint8Array(fileData, position, length);\n",
              "      position += length;\n",
              "\n",
              "      const base64 = btoa(String.fromCharCode.apply(null, chunk));\n",
              "      yield {\n",
              "        response: {\n",
              "          action: 'append',\n",
              "          file: file.name,\n",
              "          data: base64,\n",
              "        },\n",
              "      };\n",
              "\n",
              "      let percentDone = fileData.byteLength === 0 ?\n",
              "          100 :\n",
              "          Math.round((position / fileData.byteLength) * 100);\n",
              "      percent.textContent = `${percentDone}% done`;\n",
              "\n",
              "    } while (position < fileData.byteLength);\n",
              "  }\n",
              "\n",
              "  // All done.\n",
              "  yield {\n",
              "    response: {\n",
              "      action: 'complete',\n",
              "    }\n",
              "  };\n",
              "}\n",
              "\n",
              "scope.google = scope.google || {};\n",
              "scope.google.colab = scope.google.colab || {};\n",
              "scope.google.colab._files = {\n",
              "  _uploadFiles,\n",
              "  _uploadFilesContinue,\n",
              "};\n",
              "})(self);\n",
              "</script> "
            ]
          },
          "metadata": {}
        },
        {
          "output_type": "stream",
          "name": "stdout",
          "text": [
            "Saving Toronto_Climate_Data.csv to Toronto_Climate_Data (1).csv\n"
          ]
        }
      ]
    },
    {
      "cell_type": "code",
      "source": [
        "#Combining the precipitation values in Toronto Climate Data for a single month\n",
        "climate_df = climate_df.groupby(['Year', 'Month']).agg({'Total Precip (mm)': 'mean'}).reset_index()"
      ],
      "metadata": {
        "id": "KFVdA7fTBdi3"
      },
      "execution_count": null,
      "outputs": []
    },
    {
      "cell_type": "code",
      "source": [
        "#Remove \"Year\" and \"Month\" in Climate Dataset before combining\n",
        "climate_df = climate_df.drop(columns=['Year', \"Month\"])\n",
        "\n",
        "# Combine the cleaned ratings and review lengths into a new array and save it\n",
        "np.savetxt('cleaned_lyme_precip.csv', np.column_stack((lyme_df, climate_df)), delimiter=\",\", fmt='%s', header=\"Year,Month,Lyme Case Count,Total Precip (mm)\")"
      ],
      "metadata": {
        "id": "bJjAUjGRCxYa"
      },
      "execution_count": null,
      "outputs": []
    },
    {
      "cell_type": "markdown",
      "source": [
        "# Normalize and Transform Precipitation Data"
      ],
      "metadata": {
        "id": "xgtA7dMAEEu6"
      }
    },
    {
      "cell_type": "code",
      "source": [
        "#Upload the CSV file for Combined Datasets and read it into a DataFrame\n",
        "from google.colab import files\n",
        "uploaded = files.upload()\n",
        "precip_df = pd.read_csv('cleaned_lyme_precip.csv', names=['Year', 'Month', 'Lyme Case Count', 'Total Precip (mm)'], header=0)"
      ],
      "metadata": {
        "colab": {
          "base_uri": "https://localhost:8080/",
          "height": 73
        },
        "id": "keaOu7n6EJE2",
        "outputId": "e477a36a-6940-4420-dc6f-899855b037bf"
      },
      "execution_count": null,
      "outputs": [
        {
          "output_type": "display_data",
          "data": {
            "text/plain": [
              "<IPython.core.display.HTML object>"
            ],
            "text/html": [
              "\n",
              "     <input type=\"file\" id=\"files-228b265c-f9d6-4ead-8760-18ee5b5a0491\" name=\"files[]\" multiple disabled\n",
              "        style=\"border:none\" />\n",
              "     <output id=\"result-228b265c-f9d6-4ead-8760-18ee5b5a0491\">\n",
              "      Upload widget is only available when the cell has been executed in the\n",
              "      current browser session. Please rerun this cell to enable.\n",
              "      </output>\n",
              "      <script>// Copyright 2017 Google LLC\n",
              "//\n",
              "// Licensed under the Apache License, Version 2.0 (the \"License\");\n",
              "// you may not use this file except in compliance with the License.\n",
              "// You may obtain a copy of the License at\n",
              "//\n",
              "//      http://www.apache.org/licenses/LICENSE-2.0\n",
              "//\n",
              "// Unless required by applicable law or agreed to in writing, software\n",
              "// distributed under the License is distributed on an \"AS IS\" BASIS,\n",
              "// WITHOUT WARRANTIES OR CONDITIONS OF ANY KIND, either express or implied.\n",
              "// See the License for the specific language governing permissions and\n",
              "// limitations under the License.\n",
              "\n",
              "/**\n",
              " * @fileoverview Helpers for google.colab Python module.\n",
              " */\n",
              "(function(scope) {\n",
              "function span(text, styleAttributes = {}) {\n",
              "  const element = document.createElement('span');\n",
              "  element.textContent = text;\n",
              "  for (const key of Object.keys(styleAttributes)) {\n",
              "    element.style[key] = styleAttributes[key];\n",
              "  }\n",
              "  return element;\n",
              "}\n",
              "\n",
              "// Max number of bytes which will be uploaded at a time.\n",
              "const MAX_PAYLOAD_SIZE = 100 * 1024;\n",
              "\n",
              "function _uploadFiles(inputId, outputId) {\n",
              "  const steps = uploadFilesStep(inputId, outputId);\n",
              "  const outputElement = document.getElementById(outputId);\n",
              "  // Cache steps on the outputElement to make it available for the next call\n",
              "  // to uploadFilesContinue from Python.\n",
              "  outputElement.steps = steps;\n",
              "\n",
              "  return _uploadFilesContinue(outputId);\n",
              "}\n",
              "\n",
              "// This is roughly an async generator (not supported in the browser yet),\n",
              "// where there are multiple asynchronous steps and the Python side is going\n",
              "// to poll for completion of each step.\n",
              "// This uses a Promise to block the python side on completion of each step,\n",
              "// then passes the result of the previous step as the input to the next step.\n",
              "function _uploadFilesContinue(outputId) {\n",
              "  const outputElement = document.getElementById(outputId);\n",
              "  const steps = outputElement.steps;\n",
              "\n",
              "  const next = steps.next(outputElement.lastPromiseValue);\n",
              "  return Promise.resolve(next.value.promise).then((value) => {\n",
              "    // Cache the last promise value to make it available to the next\n",
              "    // step of the generator.\n",
              "    outputElement.lastPromiseValue = value;\n",
              "    return next.value.response;\n",
              "  });\n",
              "}\n",
              "\n",
              "/**\n",
              " * Generator function which is called between each async step of the upload\n",
              " * process.\n",
              " * @param {string} inputId Element ID of the input file picker element.\n",
              " * @param {string} outputId Element ID of the output display.\n",
              " * @return {!Iterable<!Object>} Iterable of next steps.\n",
              " */\n",
              "function* uploadFilesStep(inputId, outputId) {\n",
              "  const inputElement = document.getElementById(inputId);\n",
              "  inputElement.disabled = false;\n",
              "\n",
              "  const outputElement = document.getElementById(outputId);\n",
              "  outputElement.innerHTML = '';\n",
              "\n",
              "  const pickedPromise = new Promise((resolve) => {\n",
              "    inputElement.addEventListener('change', (e) => {\n",
              "      resolve(e.target.files);\n",
              "    });\n",
              "  });\n",
              "\n",
              "  const cancel = document.createElement('button');\n",
              "  inputElement.parentElement.appendChild(cancel);\n",
              "  cancel.textContent = 'Cancel upload';\n",
              "  const cancelPromise = new Promise((resolve) => {\n",
              "    cancel.onclick = () => {\n",
              "      resolve(null);\n",
              "    };\n",
              "  });\n",
              "\n",
              "  // Wait for the user to pick the files.\n",
              "  const files = yield {\n",
              "    promise: Promise.race([pickedPromise, cancelPromise]),\n",
              "    response: {\n",
              "      action: 'starting',\n",
              "    }\n",
              "  };\n",
              "\n",
              "  cancel.remove();\n",
              "\n",
              "  // Disable the input element since further picks are not allowed.\n",
              "  inputElement.disabled = true;\n",
              "\n",
              "  if (!files) {\n",
              "    return {\n",
              "      response: {\n",
              "        action: 'complete',\n",
              "      }\n",
              "    };\n",
              "  }\n",
              "\n",
              "  for (const file of files) {\n",
              "    const li = document.createElement('li');\n",
              "    li.append(span(file.name, {fontWeight: 'bold'}));\n",
              "    li.append(span(\n",
              "        `(${file.type || 'n/a'}) - ${file.size} bytes, ` +\n",
              "        `last modified: ${\n",
              "            file.lastModifiedDate ? file.lastModifiedDate.toLocaleDateString() :\n",
              "                                    'n/a'} - `));\n",
              "    const percent = span('0% done');\n",
              "    li.appendChild(percent);\n",
              "\n",
              "    outputElement.appendChild(li);\n",
              "\n",
              "    const fileDataPromise = new Promise((resolve) => {\n",
              "      const reader = new FileReader();\n",
              "      reader.onload = (e) => {\n",
              "        resolve(e.target.result);\n",
              "      };\n",
              "      reader.readAsArrayBuffer(file);\n",
              "    });\n",
              "    // Wait for the data to be ready.\n",
              "    let fileData = yield {\n",
              "      promise: fileDataPromise,\n",
              "      response: {\n",
              "        action: 'continue',\n",
              "      }\n",
              "    };\n",
              "\n",
              "    // Use a chunked sending to avoid message size limits. See b/62115660.\n",
              "    let position = 0;\n",
              "    do {\n",
              "      const length = Math.min(fileData.byteLength - position, MAX_PAYLOAD_SIZE);\n",
              "      const chunk = new Uint8Array(fileData, position, length);\n",
              "      position += length;\n",
              "\n",
              "      const base64 = btoa(String.fromCharCode.apply(null, chunk));\n",
              "      yield {\n",
              "        response: {\n",
              "          action: 'append',\n",
              "          file: file.name,\n",
              "          data: base64,\n",
              "        },\n",
              "      };\n",
              "\n",
              "      let percentDone = fileData.byteLength === 0 ?\n",
              "          100 :\n",
              "          Math.round((position / fileData.byteLength) * 100);\n",
              "      percent.textContent = `${percentDone}% done`;\n",
              "\n",
              "    } while (position < fileData.byteLength);\n",
              "  }\n",
              "\n",
              "  // All done.\n",
              "  yield {\n",
              "    response: {\n",
              "      action: 'complete',\n",
              "    }\n",
              "  };\n",
              "}\n",
              "\n",
              "scope.google = scope.google || {};\n",
              "scope.google.colab = scope.google.colab || {};\n",
              "scope.google.colab._files = {\n",
              "  _uploadFiles,\n",
              "  _uploadFilesContinue,\n",
              "};\n",
              "})(self);\n",
              "</script> "
            ]
          },
          "metadata": {}
        },
        {
          "output_type": "stream",
          "name": "stdout",
          "text": [
            "Saving cleaned_lyme_precip.csv to cleaned_lyme_precip (1).csv\n"
          ]
        }
      ]
    },
    {
      "cell_type": "code",
      "source": [
        "#Applying Min-Max Scaler\n",
        "scaler =  MinMaxScaler()\n",
        "standardized_data = scaler.fit_transform(precip_df[['Lyme Case Count', 'Total Precip (mm)']])\n",
        "precip_df[['Lyme Case Count', 'Total Precip (mm)']] = standardized_data\n",
        "\n",
        "print(standardized_data)"
      ],
      "metadata": {
        "colab": {
          "base_uri": "https://localhost:8080/"
        },
        "id": "kjzsjyMHEaUO",
        "outputId": "57b0b7fa-3e48-49cb-f6e2-0e13dd229f60"
      },
      "execution_count": null,
      "outputs": [
        {
          "output_type": "stream",
          "name": "stdout",
          "text": [
            "[[0.01298701 0.37836195]\n",
            " [0.         0.48386046]\n",
            " [0.         0.4224282 ]\n",
            " [0.01298701 0.58027551]\n",
            " [0.07792208 0.67087069]\n",
            " [0.18181818 0.74406119]\n",
            " [0.38961039 0.47181279]\n",
            " [0.28571429 0.33581523]\n",
            " [0.1038961  0.19135896]\n",
            " [0.02597403 0.98465279]\n",
            " [0.05194805 0.21177126]\n",
            " [0.01298701 0.53993821]\n",
            " [0.         0.90343413]\n",
            " [0.01298701 0.41540694]\n",
            " [0.         0.4429418 ]\n",
            " [0.         0.35544244]\n",
            " [0.05194805 0.31910044]\n",
            " [0.15584416 0.31383275]\n",
            " [0.1038961  0.50600213]\n",
            " [0.14285714 0.67104797]\n",
            " [0.07792208 0.29263536]\n",
            " [0.05194805 0.29277072]\n",
            " [0.02597403 0.43081092]\n",
            " [0.         0.36240693]\n",
            " [0.         0.15651117]\n",
            " [0.01298701 0.24328695]\n",
            " [0.02597403 0.23248746]\n",
            " [0.02597403 0.33974067]\n",
            " [0.07792208 0.06913843]\n",
            " [0.49350649 0.53836803]\n",
            " [0.51948052 0.71187256]\n",
            " [0.32467532 0.        ]\n",
            " [0.18181818 1.        ]\n",
            " [0.06493506 0.9063972 ]\n",
            " [0.03896104 0.25506328]\n",
            " [0.         0.36240693]\n",
            " [0.01298701 0.29630755]\n",
            " [0.         0.5351716 ]\n",
            " [0.02597403 0.33657499]\n",
            " [0.06493506 0.26358709]\n",
            " [0.07792208 0.1291597 ]\n",
            " [0.2987013  0.38998632]\n",
            " [0.37662338 0.35860811]\n",
            " [0.36363636 0.4019146 ]\n",
            " [0.19480519 0.38920124]\n",
            " [0.07792208 0.16309578]\n",
            " [0.12987013 0.46142937]\n",
            " [0.01298701 0.88360432]\n",
            " [0.05194805 0.48776782]\n",
            " [0.05194805 0.49143096]\n",
            " [0.02597403 0.67618903]\n",
            " [0.02597403 0.74013574]\n",
            " [0.03896104 0.27579395]\n",
            " [0.32467532 0.72207871]\n",
            " [1.         0.65795472]\n",
            " [0.37662338 0.26059869]\n",
            " [0.20779221 0.00529302]\n",
            " [0.05194805 0.22944841]\n",
            " [0.05194805 0.33500307]\n",
            " [0.07792208 0.49612521]]\n"
          ]
        }
      ]
    },
    {
      "cell_type": "code",
      "source": [
        "#Apply Cube Root Transformation\n",
        "cube_transformed = np.cbrt(precip_df[['Lyme Case Count', 'Total Precip (mm)']])\n",
        "precip_df[['Lyme Case Count', 'Total Precip (mm)']] = cube_transformed\n",
        "\n",
        "print(cube_transformed)"
      ],
      "metadata": {
        "colab": {
          "base_uri": "https://localhost:8080/"
        },
        "id": "uLw6B23VEuab",
        "outputId": "6049bcd0-7fc5-4193-eb27-ca8ee146038c"
      },
      "execution_count": null,
      "outputs": [
        {
          "output_type": "stream",
          "name": "stdout",
          "text": [
            "    Lyme Case Count  Total Precip (mm)\n",
            "0          0.235055           0.723273\n",
            "1          0.000000           0.785067\n",
            "2          0.000000           0.750328\n",
            "3          0.235055           0.834087\n",
            "4          0.427124           0.875413\n",
            "5          0.566516           0.906156\n",
            "6          0.730371           0.778496\n",
            "7          0.658634           0.695078\n",
            "8          0.470110           0.576257\n",
            "9          0.296151           0.994858\n",
            "10         0.373127           0.596059\n",
            "11         0.235055           0.814294\n",
            "12         0.000000           0.966716\n",
            "13         0.235055           0.746147\n",
            "14         0.000000           0.762282\n",
            "15         0.000000           0.708364\n",
            "16         0.373127           0.683349\n",
            "17         0.538142           0.679568\n",
            "18         0.470110           0.796864\n",
            "19         0.522758           0.875490\n",
            "20         0.427124           0.663910\n",
            "21         0.373127           0.664012\n",
            "22         0.296151           0.755258\n",
            "23         0.000000           0.712961\n",
            "24         0.000000           0.538909\n",
            "25         0.235055           0.624271\n",
            "26         0.296151           0.614893\n",
            "27         0.296151           0.697776\n",
            "28         0.427124           0.410431\n",
            "29         0.790250           0.813504\n",
            "30         0.803877           0.892896\n",
            "31         0.687305           0.000000\n",
            "32         0.566516           1.000000\n",
            "33         0.401939           0.967772\n",
            "34         0.339008           0.634185\n",
            "35         0.000000           0.712961\n",
            "36         0.235055           0.666675\n",
            "37         0.000000           0.811891\n",
            "38         0.296151           0.695602\n",
            "39         0.401939           0.641172\n",
            "40         0.427124           0.505486\n",
            "41         0.668466           0.730606\n",
            "42         0.722164           0.710461\n",
            "43         0.713766           0.737980\n",
            "44         0.579696           0.730115\n",
            "45         0.427124           0.546363\n",
            "46         0.506411           0.772743\n",
            "47         0.235055           0.959591\n",
            "48         0.373127           0.787175\n",
            "49         0.373127           0.789140\n",
            "50         0.296151           0.877720\n",
            "51         0.296151           0.904559\n",
            "52         0.339008           0.650921\n",
            "53         0.687305           0.897143\n",
            "54         1.000000           0.869758\n",
            "55         0.722164           0.638740\n",
            "56         0.592302           0.174275\n",
            "57         0.373127           0.612202\n",
            "58         0.373127           0.694517\n",
            "59         0.427124           0.791645\n"
          ]
        }
      ]
    },
    {
      "cell_type": "markdown",
      "source": [
        "# Time-Series Correlation (Precipitation)"
      ],
      "metadata": {
        "id": "q6capCRVE3in"
      }
    },
    {
      "cell_type": "code",
      "source": [
        "correlation = precip_df['Lyme Case Count'].corr(precip_df['Total Precip (mm)'])\n",
        "print(f\"Pearson correlation: {correlation}\")\n",
        "\n",
        "spearman_corr, _ = stats.spearmanr(precip_df['Lyme Case Count'], precip_df['Total Precip (mm)'])\n",
        "print(f\"Spearman correlation: {spearman_corr}\")"
      ],
      "metadata": {
        "colab": {
          "base_uri": "https://localhost:8080/"
        },
        "id": "MV4GBcikE95C",
        "outputId": "6e7d74f8-8ea8-4625-dbce-cdbc2dc48a1d"
      },
      "execution_count": null,
      "outputs": [
        {
          "output_type": "stream",
          "name": "stdout",
          "text": [
            "Pearson correlation: -0.07843614560902319\n",
            "Spearman correlation: -0.014710551907344811\n"
          ]
        }
      ]
    },
    {
      "cell_type": "code",
      "source": [
        "def cross_correlation(series1, series2, lag):\n",
        "    shifted_series = series2.shift(lag)\n",
        "    return series1.corr(shifted_series)\n",
        "\n",
        "max_lag = 10  # Define the maximum lag\n",
        "for lag in range(-max_lag, max_lag + 1):\n",
        "    cc = cross_correlation(precip_df['Lyme Case Count'], precip_df['Total Precip (mm)'], lag)\n",
        "    print(f\"Cross correlation at lag {lag}: {cc}\")"
      ],
      "metadata": {
        "colab": {
          "base_uri": "https://localhost:8080/"
        },
        "id": "QlAqtcGDF7hb",
        "outputId": "80633c7f-ed06-4f0e-8cd7-3bd8382ec0ac"
      },
      "execution_count": null,
      "outputs": [
        {
          "output_type": "stream",
          "name": "stdout",
          "text": [
            "Cross correlation at lag -10: -0.11487379128255666\n",
            "Cross correlation at lag -9: -0.04590032558963717\n",
            "Cross correlation at lag -8: 0.11161505150372066\n",
            "Cross correlation at lag -7: 0.11195042505628157\n",
            "Cross correlation at lag -6: 0.11916691140508612\n",
            "Cross correlation at lag -5: 0.18586149914008035\n",
            "Cross correlation at lag -4: 0.08341548740000199\n",
            "Cross correlation at lag -3: -0.03109567122611752\n",
            "Cross correlation at lag -2: -0.22368499878420164\n",
            "Cross correlation at lag -1: -0.11253251319842712\n",
            "Cross correlation at lag 0: -0.07843614560902319\n",
            "Cross correlation at lag 1: -0.02645307027153607\n",
            "Cross correlation at lag 2: -0.053879853922757605\n",
            "Cross correlation at lag 3: -0.10992813389144702\n",
            "Cross correlation at lag 4: 0.04138108527937035\n",
            "Cross correlation at lag 5: -0.08248186327794281\n",
            "Cross correlation at lag 6: 0.07748620728632931\n",
            "Cross correlation at lag 7: 0.11896309781516405\n",
            "Cross correlation at lag 8: 0.0050873142737487866\n",
            "Cross correlation at lag 9: 0.009587550093001614\n",
            "Cross correlation at lag 10: -0.07556576348026896\n"
          ]
        }
      ]
    },
    {
      "cell_type": "markdown",
      "source": [
        "# Min/Max Temperature Analysis"
      ],
      "metadata": {
        "id": "QwEPHH07UbkK"
      }
    },
    {
      "cell_type": "code",
      "source": [],
      "metadata": {
        "id": "U3CN7-DxUg4v"
      },
      "execution_count": null,
      "outputs": []
    }
  ]
}